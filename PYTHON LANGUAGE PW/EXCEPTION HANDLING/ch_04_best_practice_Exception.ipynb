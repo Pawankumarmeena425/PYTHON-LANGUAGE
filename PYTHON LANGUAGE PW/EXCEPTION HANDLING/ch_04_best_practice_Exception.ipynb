{
 "cells": [
  {
   "cell_type": "code",
   "execution_count": 1,
   "id": "d1449b29-1e4a-4357-8079-281336a56118",
   "metadata": {},
   "outputs": [
    {
     "name": "stdout",
     "output_type": "stream",
     "text": [
      "division by zero\n"
     ]
    }
   ],
   "source": [
    "# Use always a specific exception , not in generic one(super class)\n",
    "try :\n",
    "    45/0\n",
    "except ZeroDivisionError as e:\n",
    "    print (e)\n",
    "except Exception as e :\n",
    "    print(e)"
   ]
  },
  {
   "cell_type": "code",
   "execution_count": 4,
   "id": "4414847d-41b4-4fae-972d-b5d4886b9610",
   "metadata": {},
   "outputs": [
    {
     "name": "stdout",
     "output_type": "stream",
     "text": [
      "I am trying to handle a ZeroDivision error :  division by zero\n"
     ]
    }
   ],
   "source": [
    "# Print alwasy a proper message\n",
    "try:\n",
    "    15/0\n",
    "except ZeroDivisionError as e:\n",
    "    print(\"I am trying to handle a ZeroDivision error : \",e)"
   ]
  },
  {
   "cell_type": "code",
   "execution_count": 7,
   "id": "fd4b6dbe-d37e-4dcb-80a8-f6b970013335",
   "metadata": {},
   "outputs": [],
   "source": [
    "# Always try ot log your error\n",
    "import logging \n",
    "logging.basicConfig(filename=  \"error.log\",level = logging.ERROR)\n",
    "try:\n",
    "    4554/0\n",
    "except ZeroDivisionError as e:\n",
    "    logging.error(\"I am trying to handle a ZeroDivision error {} : \".format(e))"
   ]
  },
  {
   "cell_type": "code",
   "execution_count": 9,
   "id": "9571f732-e711-4c5c-8f34-f6d27ec4a462",
   "metadata": {},
   "outputs": [],
   "source": [
    "# Always avoid to write a multiple exception handling\n",
    "try:\n",
    "    54/0\n",
    "except FileNotFoundError as e:\n",
    "    logging.error(\"I am handling file not found {} \".format(e))\n",
    "except AttributeError as e:\n",
    "    logging.error(\"I am handling Attribute error {}\".format(e))\n",
    "except ZeroDivisionError as e:\n",
    "    logging.error(\"I am handling ZeroDivision Error {}\".format(e))\n",
    "#     it increase unnecessarly increase time "
   ]
  },
  {
   "cell_type": "code",
   "execution_count": null,
   "id": "f9b9a623-4825-4573-bfc1-e622997d4e58",
   "metadata": {},
   "outputs": [],
   "source": [
    "# Document all the error\n"
   ]
  },
  {
   "cell_type": "code",
   "execution_count": 15,
   "id": "1ec6df40-112b-4e4d-828f-fb47b4d0c87f",
   "metadata": {},
   "outputs": [],
   "source": [
    "# Cleanup all the resources\n",
    "try:\n",
    "    with open(\"test.txt\",'w') as f:\n",
    "        f.write(\"this is my data to file\")\n",
    "except FileNotFoundError as e:\n",
    "    logging.error(\"i am handloing file  not found {} \".format(e))\n",
    "finally:\n",
    "    f.close()"
   ]
  },
  {
   "cell_type": "code",
   "execution_count": null,
   "id": "13e6589b-374d-4bea-8f77-98b4245306a1",
   "metadata": {},
   "outputs": [],
   "source": []
  }
 ],
 "metadata": {
  "kernelspec": {
   "display_name": "Python 3 (ipykernel)",
   "language": "python",
   "name": "python3"
  },
  "language_info": {
   "codemirror_mode": {
    "name": "ipython",
    "version": 3
   },
   "file_extension": ".py",
   "mimetype": "text/x-python",
   "name": "python",
   "nbconvert_exporter": "python",
   "pygments_lexer": "ipython3",
   "version": "3.10.8"
  }
 },
 "nbformat": 4,
 "nbformat_minor": 5
}
