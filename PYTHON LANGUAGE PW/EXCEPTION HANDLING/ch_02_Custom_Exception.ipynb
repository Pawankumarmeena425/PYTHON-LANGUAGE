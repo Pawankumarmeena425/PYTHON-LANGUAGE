{
 "cells": [
  {
   "cell_type": "code",
   "execution_count": null,
   "id": "3b133bb2-830f-458f-83ad-80957208d7bf",
   "metadata": {},
   "outputs": [],
   "source": [
    "age = int(input(\"enter your age\"))\n",
    "# if age is negative then how it will be handle"
   ]
  },
  {
   "cell_type": "code",
   "execution_count": 1,
   "id": "f0031e49-e054-4c7f-b45c-27daf39b6f77",
   "metadata": {},
   "outputs": [],
   "source": [
    "class validage(Exception):\n",
    "    \n",
    "    def __inti__(self,msg):\n",
    "        self.msg = msg\n",
    "        "
   ]
  },
  {
   "cell_type": "code",
   "execution_count": 4,
   "id": "e1121765-0d2d-4df6-ba09-3a91645d4588",
   "metadata": {},
   "outputs": [],
   "source": [
    "def validatage(age):\n",
    "    if age<0:\n",
    "        raise validage(\"entered age is negative\")\n",
    "    elif age>200:\n",
    "        raise validage(\"entered age is very very high\")\n",
    "    else:\n",
    "        print(\"age is valid\")"
   ]
  },
  {
   "cell_type": "code",
   "execution_count": 7,
   "id": "c8cdfdd0-167e-424b-bbff-65525e73afac",
   "metadata": {},
   "outputs": [
    {
     "name": "stdin",
     "output_type": "stream",
     "text": [
      "Enter your age 1234\n"
     ]
    },
    {
     "name": "stdout",
     "output_type": "stream",
     "text": [
      "entered age is very very high\n"
     ]
    }
   ],
   "source": [
    "try:\n",
    "    age = int(input(\"Enter your age\"))\n",
    "    validatage(age)\n",
    "except validage as e :\n",
    "    print(e)"
   ]
  },
  {
   "cell_type": "code",
   "execution_count": null,
   "id": "123e113d-b866-4164-8993-99acd12db470",
   "metadata": {},
   "outputs": [],
   "source": []
  },
  {
   "cell_type": "code",
   "execution_count": null,
   "id": "28d8fb3e-d6d6-42b1-95d5-f7df5640a032",
   "metadata": {},
   "outputs": [],
   "source": []
  },
  {
   "cell_type": "code",
   "execution_count": null,
   "id": "a53310c1-ac7b-4130-b9b5-a475036b7915",
   "metadata": {},
   "outputs": [],
   "source": []
  }
 ],
 "metadata": {
  "kernelspec": {
   "display_name": "Python 3 (ipykernel)",
   "language": "python",
   "name": "python3"
  },
  "language_info": {
   "codemirror_mode": {
    "name": "ipython",
    "version": 3
   },
   "file_extension": ".py",
   "mimetype": "text/x-python",
   "name": "python",
   "nbconvert_exporter": "python",
   "pygments_lexer": "ipython3",
   "version": "3.10.8"
  }
 },
 "nbformat": 4,
 "nbformat_minor": 5
}
