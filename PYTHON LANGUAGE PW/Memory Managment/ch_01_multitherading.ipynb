{
 "cells": [
  {
   "cell_type": "code",
   "execution_count": 1,
   "id": "8a6f5a47-e0ca-4a9e-9dfc-92e2726d32b1",
   "metadata": {},
   "outputs": [],
   "source": [
    "# how run multiple program or process in a single core  --->> multithreading"
   ]
  },
  {
   "cell_type": "code",
   "execution_count": 2,
   "id": "785fd319-079a-43c6-999b-4b4f022641c8",
   "metadata": {},
   "outputs": [],
   "source": [
    "import threading"
   ]
  },
  {
   "cell_type": "code",
   "execution_count": 9,
   "id": "5ecd9de4-05f5-4fdd-a935-35011a3d7272",
   "metadata": {},
   "outputs": [],
   "source": [
    "def test(id):\n",
    "    print(\"Program starts %d \"%id)"
   ]
  },
  {
   "cell_type": "code",
   "execution_count": 10,
   "id": "6de547cf-0b6e-4376-b59b-6075c3547946",
   "metadata": {},
   "outputs": [
    {
     "name": "stdout",
     "output_type": "stream",
     "text": [
      "Program starts 32440 \n"
     ]
    }
   ],
   "source": [
    "test(32440)"
   ]
  },
  {
   "cell_type": "code",
   "execution_count": 14,
   "id": "1795c6ae-ae12-49f0-8e61-8dfa0e0b0dd1",
   "metadata": {},
   "outputs": [],
   "source": [
    "thread = [threading.Thread(target = test , args=(i,)) for i in range(10)]"
   ]
  },
  {
   "cell_type": "code",
   "execution_count": 15,
   "id": "2fbe40e9-70a6-40c4-b08b-bc96ae7359a1",
   "metadata": {},
   "outputs": [
    {
     "name": "stdout",
     "output_type": "stream",
     "text": [
      "Program starts 0 \n",
      "Program starts 1 \n",
      "Program starts 2 \n",
      "Program starts 3 \n",
      "Program starts 4 \n",
      "Program starts 5 \n",
      "Program starts 6 \n",
      "Program starts 7 \n",
      "Program starts 8 \n",
      "Program starts 9 \n"
     ]
    }
   ],
   "source": [
    "for t in thread:\n",
    "    t.start()"
   ]
  },
  {
   "cell_type": "code",
   "execution_count": 16,
   "id": "adea09ce-e96e-4aa1-8d35-918c3d8e3744",
   "metadata": {},
   "outputs": [
    {
     "data": {
      "text/plain": [
       "[<Thread(Thread-25 (test), stopped 140514334594624)>,\n",
       " <Thread(Thread-26 (test), stopped 140514334594624)>,\n",
       " <Thread(Thread-27 (test), stopped 140514334594624)>,\n",
       " <Thread(Thread-28 (test), stopped 140514334594624)>,\n",
       " <Thread(Thread-29 (test), stopped 140514334594624)>,\n",
       " <Thread(Thread-30 (test), stopped 140514334594624)>,\n",
       " <Thread(Thread-31 (test), stopped 140514334594624)>,\n",
       " <Thread(Thread-32 (test), stopped 140514334594624)>,\n",
       " <Thread(Thread-33 (test), stopped 140514334594624)>,\n",
       " <Thread(Thread-34 (test), stopped 140514334594624)>]"
      ]
     },
     "execution_count": 16,
     "metadata": {},
     "output_type": "execute_result"
    }
   ],
   "source": [
    "thread"
   ]
  },
  {
   "cell_type": "code",
   "execution_count": 17,
   "id": "8675d4f7-9e0e-4abd-b876-4ab0855aaa3c",
   "metadata": {},
   "outputs": [
    {
     "data": {
      "text/plain": [
       "140514821437632"
      ]
     },
     "execution_count": 17,
     "metadata": {},
     "output_type": "execute_result"
    }
   ],
   "source": [
    "id(thread)\n",
    "# all threads are run in a single core "
   ]
  },
  {
   "cell_type": "code",
   "execution_count": 4,
   "id": "0643f184-1dc6-48bb-a86c-2862b6173d08",
   "metadata": {},
   "outputs": [],
   "source": [
    "# how to import files form browser in your local system\n",
    "\n",
    "import threading\n",
    "import urllib.request\n",
    "\n",
    "def file_download(url,filname):\n",
    "    urllib.request.urlretrieve(url,filname)"
   ]
  },
  {
   "cell_type": "code",
   "execution_count": 5,
   "id": "a3ec9e2e-0293-43f7-b249-534ad39a7be9",
   "metadata": {},
   "outputs": [],
   "source": [
    "file_download('https://github.com/Pawankumarmeen425/DATA-SCIENCE-ASSIGNEMENT/blob/main/As_13_13_Feb.ipynb',\"test.txt\")"
   ]
  },
  {
   "cell_type": "code",
   "execution_count": 6,
   "id": "9dc95d18-0268-4a8e-823e-484c11aafb53",
   "metadata": {},
   "outputs": [],
   "source": [
    "url_list =  ['https://www.w3.org/MarkUp/html-test/implementors-guide/plaintext.html','https://en.wikipedia.org/wiki/Plain_text','https://blog.vepo.dev/projects/plain-test/']"
   ]
  },
  {
   "cell_type": "code",
   "execution_count": 7,
   "id": "11af8133-1869-4c08-921a-60ec4acea8f1",
   "metadata": {},
   "outputs": [
    {
     "data": {
      "text/plain": [
       "['https://www.w3.org/MarkUp/html-test/implementors-guide/plaintext.html',\n",
       " 'https://en.wikipedia.org/wiki/Plain_text',\n",
       " 'https://blog.vepo.dev/projects/plain-test/']"
      ]
     },
     "execution_count": 7,
     "metadata": {},
     "output_type": "execute_result"
    }
   ],
   "source": [
    "url_list"
   ]
  },
  {
   "cell_type": "code",
   "execution_count": 11,
   "id": "e3b83d48-a46e-46a1-a90e-b1e2723772bc",
   "metadata": {},
   "outputs": [],
   "source": [
    "file_name_list = ['data1.txt','data2.txt','data3.txt']"
   ]
  },
  {
   "cell_type": "code",
   "execution_count": null,
   "id": "b9956b8f-f0e6-499e-a62e-0da9c578d75c",
   "metadata": {},
   "outputs": [],
   "source": [
    "for i in range(3):\n",
    "    file_download(url_list[i],file_name_list[i])\n",
    "#     in this way program run in multiple threads or core"
   ]
  },
  {
   "cell_type": "code",
   "execution_count": 12,
   "id": "7cc34237-7063-40ed-83c7-2de0a9b9d11b",
   "metadata": {},
   "outputs": [],
   "source": [
    "thread = [threading.Thread(target = file_download,args = (url_list[i],file_name_list[i])) for i in range(len(url_list))]"
   ]
  },
  {
   "cell_type": "code",
   "execution_count": 13,
   "id": "54102dcb-6313-49f5-97ea-4666b1ee4def",
   "metadata": {},
   "outputs": [
    {
     "data": {
      "text/plain": [
       "[<Thread(Thread-5 (file_download), initial)>,\n",
       " <Thread(Thread-6 (file_download), initial)>,\n",
       " <Thread(Thread-7 (file_download), initial)>]"
      ]
     },
     "execution_count": 13,
     "metadata": {},
     "output_type": "execute_result"
    }
   ],
   "source": [
    "thread"
   ]
  },
  {
   "cell_type": "code",
   "execution_count": null,
   "id": "c90fd927-c6e1-49a0-9f25-474f667bf87e",
   "metadata": {},
   "outputs": [],
   "source": [
    "for t in thread:\n",
    "    t.start()"
   ]
  },
  {
   "cell_type": "code",
   "execution_count": 17,
   "id": "d5a78d8a-b926-4a5b-ab67-536f9c060ef1",
   "metadata": {},
   "outputs": [
    {
     "data": {
      "text/plain": [
       "[<Thread(Thread-5 (file_download), stopped 139635753739840)>,\n",
       " <Thread(Thread-6 (file_download), stopped 139635745347136)>,\n",
       " <Thread(Thread-7 (file_download), stopped 139635736954432)>]"
      ]
     },
     "execution_count": 17,
     "metadata": {},
     "output_type": "execute_result"
    }
   ],
   "source": [
    "thread"
   ]
  },
  {
   "cell_type": "code",
   "execution_count": 18,
   "id": "31d80326-6cf5-453b-a05f-ffa12f1839df",
   "metadata": {},
   "outputs": [],
   "source": [
    "import time "
   ]
  },
  {
   "cell_type": "code",
   "execution_count": 49,
   "id": "4fe17fdc-9c2a-425c-ac49-4c63f5ebe16f",
   "metadata": {},
   "outputs": [],
   "source": [
    "def test1(id):\n",
    "    for i in range(10):\n",
    "        print(\"test1 %d printing %d %s\" %(id,i,time.ctime()))\n",
    "        time.sleep(1)  #sleep for 1 second\n",
    "        # run like a round-robin algorithing of multiherading"
   ]
  },
  {
   "cell_type": "code",
   "execution_count": 50,
   "id": "eca81d5b-31e2-4b2b-b7d0-e959acd0586b",
   "metadata": {},
   "outputs": [
    {
     "name": "stdout",
     "output_type": "stream",
     "text": [
      "test1 1 printing 0 Wed Mar  1 03:34:28 2023\n",
      "test1 1 printing 1 Wed Mar  1 03:34:29 2023\n",
      "test1 1 printing 2 Wed Mar  1 03:34:30 2023\n",
      "test1 1 printing 3 Wed Mar  1 03:34:31 2023\n",
      "test1 1 printing 4 Wed Mar  1 03:34:32 2023\n",
      "test1 1 printing 5 Wed Mar  1 03:34:33 2023\n",
      "test1 1 printing 6 Wed Mar  1 03:34:34 2023\n",
      "test1 1 printing 7 Wed Mar  1 03:34:35 2023\n",
      "test1 1 printing 8 Wed Mar  1 03:34:36 2023\n",
      "test1 1 printing 9 Wed Mar  1 03:34:37 2023\n"
     ]
    }
   ],
   "source": [
    "test1(1)"
   ]
  },
  {
   "cell_type": "code",
   "execution_count": 51,
   "id": "233ea882-1d11-4901-b7f5-40bdcfca029f",
   "metadata": {},
   "outputs": [],
   "source": [
    "thread1 = [threading.Thread(target = test1,args = (i,)) for i in range(3)]"
   ]
  },
  {
   "cell_type": "code",
   "execution_count": 52,
   "id": "edca4e68-1e2a-4587-9bc3-439987e5b30b",
   "metadata": {},
   "outputs": [
    {
     "name": "stdout",
     "output_type": "stream",
     "text": [
      "test1 0 printing 0 Wed Mar  1 03:34:38 2023\n",
      "test1 1 printing 0 Wed Mar  1 03:34:38 2023\n",
      "test1 2 printing 0 Wed Mar  1 03:34:38 2023\n",
      "test1 0 printing 1 Wed Mar  1 03:34:39 2023test1 1 printing 1 Wed Mar  1 03:34:39 2023\n",
      "\n",
      "test1 2 printing 1 Wed Mar  1 03:34:39 2023\n",
      "test1 0 printing 2 Wed Mar  1 03:34:40 2023test1 1 printing 2 Wed Mar  1 03:34:40 2023\n",
      "test1 2 printing 2 Wed Mar  1 03:34:40 2023\n",
      "\n",
      "test1 1 printing 3 Wed Mar  1 03:34:41 2023test1 2 printing 3 Wed Mar  1 03:34:41 2023\n",
      "test1 0 printing 3 Wed Mar  1 03:34:41 2023\n",
      "\n",
      "test1 2 printing 4 Wed Mar  1 03:34:42 2023\n",
      "test1 1 printing 4 Wed Mar  1 03:34:42 2023\n",
      "test1 0 printing 4 Wed Mar  1 03:34:42 2023\n",
      "test1 2 printing 5 Wed Mar  1 03:34:43 2023test1 1 printing 5 Wed Mar  1 03:34:43 2023\n",
      "\n",
      "test1 0 printing 5 Wed Mar  1 03:34:43 2023\n",
      "test1 2 printing 6 Wed Mar  1 03:34:44 2023test1 1 printing 6 Wed Mar  1 03:34:44 2023\n",
      "test1 0 printing 6 Wed Mar  1 03:34:44 2023\n",
      "\n",
      "test1 1 printing 7 Wed Mar  1 03:34:45 2023\n",
      "test1 0 printing 7 Wed Mar  1 03:34:45 2023\n",
      "test1 2 printing 7 Wed Mar  1 03:34:45 2023\n",
      "test1 1 printing 8 Wed Mar  1 03:34:46 2023\n",
      "test1 2 printing 8 Wed Mar  1 03:34:46 2023\n",
      "test1 0 printing 8 Wed Mar  1 03:34:46 2023\n",
      "test1 1 printing 9 Wed Mar  1 03:34:47 2023test1 0 printing 9 Wed Mar  1 03:34:47 2023\n",
      "test1 2 printing 9 Wed Mar  1 03:34:47 2023\n",
      "\n"
     ]
    }
   ],
   "source": [
    "for t in thread1:\n",
    "    t.start()"
   ]
  },
  {
   "cell_type": "code",
   "execution_count": null,
   "id": "7f937e6c-bf39-422e-adad-89273b247aaf",
   "metadata": {},
   "outputs": [],
   "source": []
  },
  {
   "cell_type": "code",
   "execution_count": 95,
   "id": "dd1b01d4-5b89-4626-9770-9cffce5945ef",
   "metadata": {},
   "outputs": [],
   "source": [
    "shared_var = 0 \n",
    "lock_var = threading.Lock()"
   ]
  },
  {
   "cell_type": "code",
   "execution_count": 96,
   "id": "cb0198eb-5c3c-4879-9cd4-2f71c5d50172",
   "metadata": {},
   "outputs": [],
   "source": [
    "def test2(id):\n",
    "    global shared_var\n",
    "    with lock_var:\n",
    "        shared_var =  shared_var+1\n",
    "        print(\"test2 id is %d has increased the  shared variable by %d\" %(id,shared_var))\n",
    "        time.sleep(1)"
   ]
  },
  {
   "cell_type": "code",
   "execution_count": 97,
   "id": "8f64ae8d-237c-4162-a385-a0cd066d0d09",
   "metadata": {},
   "outputs": [],
   "source": [
    "thre = [threading.Thread(target = test2, args = (i,)) for i in range(3)]"
   ]
  },
  {
   "cell_type": "code",
   "execution_count": 98,
   "id": "145e7dbe-98b8-43a9-a6fd-cf919ddf3d73",
   "metadata": {},
   "outputs": [
    {
     "data": {
      "text/plain": [
       "[<Thread(Thread-53 (test2), initial)>,\n",
       " <Thread(Thread-54 (test2), initial)>,\n",
       " <Thread(Thread-55 (test2), initial)>]"
      ]
     },
     "execution_count": 98,
     "metadata": {},
     "output_type": "execute_result"
    }
   ],
   "source": [
    "thre"
   ]
  },
  {
   "cell_type": "code",
   "execution_count": 99,
   "id": "f5e8c353-f2c4-40aa-af59-a22ecd7c6d7c",
   "metadata": {},
   "outputs": [
    {
     "name": "stdout",
     "output_type": "stream",
     "text": [
      "test2 id is 0 has increased the  shared variable by 1\n",
      "test2 id is 1 has increased the  shared variable by 2\n",
      "test2 id is 2 has increased the  shared variable by 3\n"
     ]
    }
   ],
   "source": [
    "for t in thre:\n",
    "    t.start()"
   ]
  },
  {
   "cell_type": "code",
   "execution_count": 100,
   "id": "1e118ab9-a3ef-4e11-bf4c-4bcb90fd1311",
   "metadata": {},
   "outputs": [
    {
     "data": {
      "text/plain": [
       "[<Thread(Thread-53 (test2), stopped 139635736954432)>,\n",
       " <Thread(Thread-54 (test2), stopped 139635745347136)>,\n",
       " <Thread(Thread-55 (test2), stopped 139635753739840)>]"
      ]
     },
     "execution_count": 100,
     "metadata": {},
     "output_type": "execute_result"
    }
   ],
   "source": [
    "thre"
   ]
  },
  {
   "cell_type": "code",
   "execution_count": null,
   "id": "0de4cb63-9677-4478-be70-6a66f63850b6",
   "metadata": {},
   "outputs": [],
   "source": []
  }
 ],
 "metadata": {
  "kernelspec": {
   "display_name": "Python 3 (ipykernel)",
   "language": "python",
   "name": "python3"
  },
  "language_info": {
   "codemirror_mode": {
    "name": "ipython",
    "version": 3
   },
   "file_extension": ".py",
   "mimetype": "text/x-python",
   "name": "python",
   "nbconvert_exporter": "python",
   "pygments_lexer": "ipython3",
   "version": "3.10.8"
  }
 },
 "nbformat": 4,
 "nbformat_minor": 5
}
