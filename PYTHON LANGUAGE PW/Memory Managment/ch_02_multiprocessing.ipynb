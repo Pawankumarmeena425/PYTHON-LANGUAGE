{
 "cells": [
  {
   "cell_type": "code",
   "execution_count": null,
   "id": "129acd48-0655-4743-879b-ea16f33f2e27",
   "metadata": {},
   "outputs": [],
   "source": [
    "# Multiprocessing : run multiple program in multiple process or core\n",
    "# it is less time comsuming , and better effeciency"
   ]
  },
  {
   "cell_type": "code",
   "execution_count": 2,
   "id": "13031994-58b2-4391-b5e4-405590bf80e2",
   "metadata": {},
   "outputs": [],
   "source": [
    "import multiprocessing\n",
    "def test():\n",
    "    print(\"this is my multiprocessing program\")"
   ]
  },
  {
   "cell_type": "code",
   "execution_count": 3,
   "id": "d4786538-d16a-477d-bad6-fa082f458783",
   "metadata": {},
   "outputs": [
    {
     "name": "stdout",
     "output_type": "stream",
     "text": [
      "this is my multiprocessing program\n"
     ]
    }
   ],
   "source": [
    "test()"
   ]
  },
  {
   "cell_type": "code",
   "execution_count": 4,
   "id": "0c29b57c-bbcc-4dfe-901a-1206ca356057",
   "metadata": {},
   "outputs": [
    {
     "ename": "AttributeError",
     "evalue": "module 'multiprocessing' has no attribute 'Procees'",
     "output_type": "error",
     "traceback": [
      "\u001b[0;31m---------------------------------------------------------------------------\u001b[0m",
      "\u001b[0;31mAttributeError\u001b[0m                            Traceback (most recent call last)",
      "Cell \u001b[0;32mIn[4], line 2\u001b[0m\n\u001b[1;32m      1\u001b[0m \u001b[38;5;28;01mif\u001b[39;00m \u001b[38;5;18m__name__\u001b[39m \u001b[38;5;241m==\u001b[39m \u001b[38;5;124m'\u001b[39m\u001b[38;5;124m__main__\u001b[39m\u001b[38;5;124m'\u001b[39m:\n\u001b[0;32m----> 2\u001b[0m     m   \u001b[38;5;241m=\u001b[39m \u001b[43mmultiprocessing\u001b[49m\u001b[38;5;241;43m.\u001b[39;49m\u001b[43mProcees\u001b[49m(target \u001b[38;5;241m=\u001b[39m test)\n\u001b[1;32m      3\u001b[0m     \u001b[38;5;28mprint\u001b[39m(\u001b[38;5;124m\"\u001b[39m\u001b[38;5;124mthis is my main program\u001b[39m\u001b[38;5;124m\"\u001b[39m)\n\u001b[1;32m      4\u001b[0m     m\u001b[38;5;241m.\u001b[39mstart()\n",
      "\u001b[0;31mAttributeError\u001b[0m: module 'multiprocessing' has no attribute 'Procees'"
     ]
    }
   ],
   "source": [
    "if __name__ == '__main__':\n",
    "    m   = multiprocessing.Procees(target = test)\n",
    "    print(\"this is my main program\")\n",
    "    m.start()\n",
    "    m.join()"
   ]
  },
  {
   "cell_type": "code",
   "execution_count": 5,
   "id": "8e84b145-c6f1-40dc-93cb-44a342aafddd",
   "metadata": {},
   "outputs": [
    {
     "name": "stdout",
     "output_type": "stream",
     "text": [
      "[1, 4, 9, 16, 25, 36, 49, 64, 81]\n"
     ]
    }
   ],
   "source": [
    "# using Pool \n",
    "def square(n):\n",
    "    return n**2\n",
    "\n",
    "if __name__== '__main__':\n",
    "     with multiprocessing.Pool(processes=4) as pool :\n",
    "            out = pool .map(square,[1,2,3,4,5,6,7,8,9] )\n",
    "            print(out)\n",
    "#             at a time 4 process execute in a bulk parllerly"
   ]
  },
  {
   "cell_type": "code",
   "execution_count": null,
   "id": "afd2e4db-6205-4682-afd1-b714af17cd2d",
   "metadata": {},
   "outputs": [],
   "source": []
  },
  {
   "cell_type": "code",
   "execution_count": null,
   "id": "5470a0f9-8b15-4597-adec-a298d959c91c",
   "metadata": {},
   "outputs": [
    {
     "name": "stdout",
     "output_type": "stream",
     "text": [
      "0\n",
      "1\n",
      "2\n",
      "3\n",
      "4\n",
      "5\n",
      "6\n",
      "7\n",
      "8\n",
      "9\n",
      "sudh\n"
     ]
    }
   ],
   "source": [
    "# Using queue\n",
    "import multiprocessing\n",
    "\n",
    "def producer(q):\n",
    "    for i in range(10):\n",
    "        q.put(i)\n",
    "\n",
    "def consume(q):\n",
    "    while True:\n",
    "        item = q.get()\n",
    "        if item is None:\n",
    "            break\n",
    "        print(item)\n",
    "        \n",
    "        \n",
    "if __name__ == '__main__':  #dundar main method \n",
    "    queue  = multiprocessing.Queue()\n",
    "    m1 = multiprocessing.Process(target = producer,args = (queue,))\n",
    "    m2 = multiprocessing.Process(target = consume,args = (queue,))\n",
    "    m1.start()\n",
    "    m2.start()\n",
    "    queue.put(\"sudh\")\n",
    "    m1.join()\n",
    "    m2.join()"
   ]
  },
  {
   "cell_type": "code",
   "execution_count": null,
   "id": "27e0bfb3-2f9d-4d81-8791-f435adeacc0e",
   "metadata": {},
   "outputs": [],
   "source": []
  },
  {
   "cell_type": "code",
   "execution_count": 6,
   "id": "9d07d08a-c4cd-49f7-97f6-90d43603621e",
   "metadata": {},
   "outputs": [
    {
     "name": "stdout",
     "output_type": "stream",
     "text": [
      "[1, 4, 9, 16, 25, 36, 49, 64, 81, 64]\n"
     ]
    }
   ],
   "source": [
    "import multiprocessing\n",
    "\n",
    "def square(index,value):\n",
    "    value[index] = value[index]**2\n",
    "\n",
    "    \n",
    "if __name__=='__main__':\n",
    "    arr = multiprocessing.Array('i',[1,2,3,4,5,6,7,8,9,8])\n",
    "    process = []\n",
    "    for i in range(10):\n",
    "        m = multiprocessing.Process(target = square,args = (i,arr))\n",
    "        process.append(m)\n",
    "        m.start()\n",
    "    for m in process:\n",
    "        m.join()\n",
    "    print(list(arr))"
   ]
  },
  {
   "cell_type": "code",
   "execution_count": null,
   "id": "7526b314-c505-4832-ba9f-7717040826ca",
   "metadata": {},
   "outputs": [],
   "source": []
  },
  {
   "cell_type": "code",
   "execution_count": null,
   "id": "815cc58c-59b0-45ee-8d23-bde7d4f024ea",
   "metadata": {},
   "outputs": [
    {
     "name": "stdout",
     "output_type": "stream",
     "text": [
      "my name is sudh\n",
      "this is my msg to studetns\n",
      "i am taking class for multiprocessing\n"
     ]
    }
   ],
   "source": [
    "# Same things we do using Queue, we can also acheive using pipe\n",
    "import multiprocessing\n",
    "def sender(conn,msg):\n",
    "    for i in msg:\n",
    "        conn.send(i)\n",
    "    conn.close()\n",
    "\n",
    "def receive(conn):\n",
    "    while True:\n",
    "        try:\n",
    "            msg  =  conn.recv()\n",
    "        except Exception as e :\n",
    "            print(e)\n",
    "            break\n",
    "        print(msg)\n",
    "        \n",
    "        \n",
    "        \n",
    "if __name__ == '__main__' :\n",
    "    msg = [\"my name is sudh\",\"this is my msg to studetns\", \"i am taking class for multiprocessing\"]\n",
    "    parent_conn,child_con = multiprocessing.Pipe()\n",
    "    m1 = multiprocessing.Process(target = sender  , args=(child_con, msg) )\n",
    "    m2 = multiprocessing.Process(target = receive , args=(parent_conn,))\n",
    "    m1.start()\n",
    "    m2.start()\n",
    "    m1.join()\n",
    "    child_con.close()\n",
    "    m2.join()\n",
    "    parent_conn.close()\n",
    "    \n",
    "        \n",
    "\n"
   ]
  },
  {
   "cell_type": "code",
   "execution_count": null,
   "id": "e846d27b-c884-4306-8501-2003fbf33372",
   "metadata": {},
   "outputs": [],
   "source": []
  },
  {
   "cell_type": "code",
   "execution_count": null,
   "id": "80a0fe98-80df-479c-8228-937e85384605",
   "metadata": {},
   "outputs": [],
   "source": []
  }
 ],
 "metadata": {
  "kernelspec": {
   "display_name": "Python 3 (ipykernel)",
   "language": "python",
   "name": "python3"
  },
  "language_info": {
   "codemirror_mode": {
    "name": "ipython",
    "version": 3
   },
   "file_extension": ".py",
   "mimetype": "text/x-python",
   "name": "python",
   "nbconvert_exporter": "python",
   "pygments_lexer": "ipython3",
   "version": "3.10.8"
  }
 },
 "nbformat": 4,
 "nbformat_minor": 5
}
