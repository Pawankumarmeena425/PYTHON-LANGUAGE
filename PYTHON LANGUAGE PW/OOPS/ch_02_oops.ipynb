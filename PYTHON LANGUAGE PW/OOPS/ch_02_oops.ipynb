{
 "cells": [
  {
   "cell_type": "code",
   "execution_count": 1,
   "id": "ee70411f-ab69-471d-b081-a900cc7a1c80",
   "metadata": {},
   "outputs": [],
   "source": [
    "# Decorator : use to decorate the code "
   ]
  },
  {
   "cell_type": "code",
   "execution_count": 2,
   "id": "29c9d205-be1b-4b1a-a237-054943afbc08",
   "metadata": {},
   "outputs": [],
   "source": [
    "def test():\n",
    "    print(\"this is start of the fucntion\")\n",
    "    print(\"this is my fun to test\")\n",
    "    print(4+2)\n",
    "    print(\"this is end of my fun\")\n",
    "    \n",
    "# but we want to repetedly use 1st and 4th line as it is in , then we make common function and put common part there"
   ]
  },
  {
   "cell_type": "code",
   "execution_count": 3,
   "id": "bb8fc81a-8be6-46f8-b7a6-60fe4f07a56b",
   "metadata": {},
   "outputs": [
    {
     "name": "stdout",
     "output_type": "stream",
     "text": [
      "this is start of the fucntion\n",
      "this is my fun to test\n",
      "6\n",
      "this is end of my fun\n"
     ]
    }
   ],
   "source": [
    "test()"
   ]
  },
  {
   "cell_type": "code",
   "execution_count": 4,
   "id": "af86c74b-f061-4e26-8b72-129c15996c39",
   "metadata": {},
   "outputs": [],
   "source": [
    "def deco(fun):\n",
    "    def inner_dec():\n",
    "        print(\"this is start of the function\")\n",
    "        fun()  \n",
    "        print(\"this is end of the function\")\n",
    "    return inner_dec"
   ]
  },
  {
   "cell_type": "code",
   "execution_count": 5,
   "id": "be9f57de-569c-4bde-8787-151b711c46a8",
   "metadata": {},
   "outputs": [],
   "source": [
    "@deco\n",
    "def test1():   # test1 pass as a argument is the deco\n",
    "    print(6+7)"
   ]
  },
  {
   "cell_type": "code",
   "execution_count": 6,
   "id": "ebace61e-cdbb-4459-a369-9bfbb597395f",
   "metadata": {},
   "outputs": [
    {
     "name": "stdout",
     "output_type": "stream",
     "text": [
      "this is start of the function\n",
      "13\n",
      "this is end of the function\n"
     ]
    }
   ],
   "source": [
    "test1()"
   ]
  },
  {
   "cell_type": "code",
   "execution_count": 7,
   "id": "10a148db-4d7f-41b9-9555-ff3dd2b671ba",
   "metadata": {},
   "outputs": [],
   "source": [
    "# How to calculate time taken by function"
   ]
  },
  {
   "cell_type": "code",
   "execution_count": 8,
   "id": "d593ce16-d47c-4ee2-9e0c-2cfca29e0be5",
   "metadata": {},
   "outputs": [],
   "source": [
    "import time\n",
    "\n",
    "def timer_test(func):\n",
    "    def timer_test_inner():\n",
    "        start = time.time()\n",
    "        func()\n",
    "        end = time.time()\n",
    "        print(end-start)\n",
    "        \n",
    "    return timer_test_inner"
   ]
  },
  {
   "cell_type": "code",
   "execution_count": 9,
   "id": "6dc35499-1b52-465e-a83c-f6282cc7c21c",
   "metadata": {},
   "outputs": [],
   "source": [
    "@timer_test\n",
    "def test2():\n",
    "    print(23+42)"
   ]
  },
  {
   "cell_type": "code",
   "execution_count": 10,
   "id": "15b0ef2e-4ed5-4be3-b5b5-7b9b24686802",
   "metadata": {},
   "outputs": [
    {
     "name": "stdout",
     "output_type": "stream",
     "text": [
      "65\n",
      "5.14984130859375e-05\n"
     ]
    }
   ],
   "source": [
    "test2()"
   ]
  },
  {
   "cell_type": "code",
   "execution_count": 13,
   "id": "7dada99e-9bea-4a54-8cd0-990d57898588",
   "metadata": {},
   "outputs": [],
   "source": [
    "@timer_test\n",
    "def test3():\n",
    "    for i in range(100000):\n",
    "        pass"
   ]
  },
  {
   "cell_type": "code",
   "execution_count": 15,
   "id": "1f86c075-3b6c-4f1f-a0da-d3b543964ddc",
   "metadata": {},
   "outputs": [
    {
     "name": "stdout",
     "output_type": "stream",
     "text": [
      "0.0020470619201660156\n"
     ]
    }
   ],
   "source": [
    "test3()"
   ]
  },
  {
   "cell_type": "code",
   "execution_count": null,
   "id": "8f635583-edcc-4168-990b-4dc4f807d588",
   "metadata": {},
   "outputs": [],
   "source": []
  },
  {
   "cell_type": "code",
   "execution_count": 16,
   "id": "4a6c7973-6f62-468a-a07d-ddac3ce47047",
   "metadata": {},
   "outputs": [],
   "source": [
    "# CLASS METHOD \n"
   ]
  },
  {
   "cell_type": "code",
   "execution_count": 17,
   "id": "c2c0f694-0bc6-4911-a5ca-018c22f729c7",
   "metadata": {},
   "outputs": [],
   "source": [
    "class Pwskills:\n",
    "    def __init__(self,name,email):\n",
    "        \n",
    "        self.name = name\n",
    "        self.email = email\n",
    "    def students_deatils(self):\n",
    "        print(self.name,self.email)"
   ]
  },
  {
   "cell_type": "code",
   "execution_count": 19,
   "id": "ac49c653-1678-4060-9ff5-3c9bda46056f",
   "metadata": {},
   "outputs": [],
   "source": [
    "pw = Pwskills(\"moohan\",\"mohan@gmail.com\")"
   ]
  },
  {
   "cell_type": "code",
   "execution_count": 20,
   "id": "c3f9e419-e268-401a-8ba8-4d684afe6967",
   "metadata": {},
   "outputs": [
    {
     "data": {
      "text/plain": [
       "'moohan'"
      ]
     },
     "execution_count": 20,
     "metadata": {},
     "output_type": "execute_result"
    }
   ],
   "source": [
    "pw.name"
   ]
  },
  {
   "cell_type": "code",
   "execution_count": 21,
   "id": "a5845965-333b-4cac-9b07-18488ea86ec0",
   "metadata": {},
   "outputs": [
    {
     "name": "stdout",
     "output_type": "stream",
     "text": [
      "moohan mohan@gmail.com\n"
     ]
    }
   ],
   "source": [
    "pw.students_deatils()"
   ]
  },
  {
   "cell_type": "code",
   "execution_count": 22,
   "id": "34f99bda-7834-4aaa-9ee9-24eb72ebd331",
   "metadata": {},
   "outputs": [],
   "source": [
    "# this is the normal way use use to access the class attributes"
   ]
  },
  {
   "cell_type": "code",
   "execution_count": 23,
   "id": "8454461f-b7de-4369-a828-51088508c945",
   "metadata": {},
   "outputs": [],
   "source": [
    "class Pwskills1:\n",
    "    def __init__(self,name,email):\n",
    "        self.name = name\n",
    "        self.email = email\n",
    "        \n",
    "        \n",
    "    @classmethod\n",
    "    def deatils(cls,name,email):\n",
    "        return cls(name,email)     # it is return to the class , and it is availabe to the class\n",
    "    \n",
    "    \n",
    "    def students_deatils(self):\n",
    "        print(self.name,self.email)"
   ]
  },
  {
   "cell_type": "code",
   "execution_count": 24,
   "id": "b858225a-e54c-4258-bba1-72206b80ae5d",
   "metadata": {},
   "outputs": [],
   "source": [
    "# classmethod can be access without create object, it can be access through class name directly"
   ]
  },
  {
   "cell_type": "code",
   "execution_count": 26,
   "id": "d6c06726-35b2-4bb9-98e5-535ac4f9cd6d",
   "metadata": {},
   "outputs": [],
   "source": [
    "pw1 = Pwskills1.deatils(\"pawan\",\"pawan@gmail.com\")"
   ]
  },
  {
   "cell_type": "code",
   "execution_count": 27,
   "id": "ce008cdf-0c8d-4018-88c1-24580d2f66cb",
   "metadata": {},
   "outputs": [
    {
     "data": {
      "text/plain": [
       "'pawan'"
      ]
     },
     "execution_count": 27,
     "metadata": {},
     "output_type": "execute_result"
    }
   ],
   "source": [
    "pw1.name"
   ]
  },
  {
   "cell_type": "code",
   "execution_count": 28,
   "id": "de180fc2-8256-4622-8081-a910e7451258",
   "metadata": {},
   "outputs": [
    {
     "name": "stdout",
     "output_type": "stream",
     "text": [
      "pawan pawan@gmail.com\n"
     ]
    }
   ],
   "source": [
    "pw1.students_deatils()"
   ]
  },
  {
   "cell_type": "code",
   "execution_count": 45,
   "id": "44a1a049-dc97-4b20-81f4-f995728f2aa7",
   "metadata": {},
   "outputs": [],
   "source": [
    "class Pwskills2:\n",
    "    \n",
    "    mobile_num=4242342424234\n",
    "    def __init__(self,name,email):\n",
    "        self.name = name\n",
    "        self.email = email\n",
    "        \n",
    "        \n",
    "    @classmethod\n",
    "    def deatils(cls,name,email):\n",
    "        return cls(name,email)     # it is return to the class , and it is availabe to the class\n",
    "    \n",
    "    @classmethod\n",
    "    def change_number(cls,mobile):   # if we don't create the classmethod and try to accesss throgh the classname , then it will give missing 1 positional argument, because it rquire instance object as a cls\n",
    "        Pwskills2.mobile_num = mobile\n",
    "    \n",
    "    def students_deatils(self):\n",
    "        print(self.name,self.email)"
   ]
  },
  {
   "cell_type": "code",
   "execution_count": 46,
   "id": "b8b711a1-6d97-44e3-811b-995c3950b890",
   "metadata": {},
   "outputs": [
    {
     "data": {
      "text/plain": [
       "4242342424234"
      ]
     },
     "execution_count": 46,
     "metadata": {},
     "output_type": "execute_result"
    }
   ],
   "source": [
    "Pwskills2.mobile_num"
   ]
  },
  {
   "cell_type": "code",
   "execution_count": 50,
   "id": "fe89a2aa-8ba3-4fc7-b6a7-bb0b4951fd7f",
   "metadata": {},
   "outputs": [],
   "source": [
    "Pwskills2.change_number(23423424)"
   ]
  },
  {
   "cell_type": "code",
   "execution_count": 51,
   "id": "0ff6268e-bfd3-4a72-8acc-976f64e7695e",
   "metadata": {},
   "outputs": [
    {
     "data": {
      "text/plain": [
       "23423424"
      ]
     },
     "execution_count": 51,
     "metadata": {},
     "output_type": "execute_result"
    }
   ],
   "source": [
    "Pwskills2.mobile_num"
   ]
  },
  {
   "cell_type": "code",
   "execution_count": 56,
   "id": "829aa654-e345-443d-849b-162669cca15c",
   "metadata": {},
   "outputs": [],
   "source": [
    "pw2 = Pwskills2.deatils(\"rohN\",\"rohan@gmail.com\")"
   ]
  },
  {
   "cell_type": "code",
   "execution_count": 57,
   "id": "e915020c-91c5-40be-b564-aa87c593068e",
   "metadata": {},
   "outputs": [
    {
     "name": "stdout",
     "output_type": "stream",
     "text": [
      "rohN rohan@gmail.com\n"
     ]
    }
   ],
   "source": [
    "pw2.students_deatils()"
   ]
  },
  {
   "cell_type": "code",
   "execution_count": null,
   "id": "a583ebe9-30b8-4a84-82f1-56f3762d9123",
   "metadata": {},
   "outputs": [],
   "source": [
    "# Directly python don't support the method overloading , but with the help of the class method we can achieve it\n",
    "# we try to overload the __init__ , with the help of the deatils() method by declare classmethod"
   ]
  },
  {
   "cell_type": "code",
   "execution_count": null,
   "id": "87a2a285-5c6e-4998-b93b-9abf3e5a0963",
   "metadata": {},
   "outputs": [],
   "source": [
    "# *********how to add external function in the class******"
   ]
  },
  {
   "cell_type": "code",
   "execution_count": 60,
   "id": "462000a7-3c76-48c7-bf29-a996ed302a52",
   "metadata": {},
   "outputs": [],
   "source": [
    "class Pwskills3:\n",
    "    \n",
    "    mobile_num=4242342424234\n",
    "    def __init__(self,name,email):\n",
    "        self.name = name\n",
    "        self.email = email\n",
    "        \n",
    "        \n",
    "    @classmethod\n",
    "    def deatils(cls,name,email):\n",
    "        return cls(name,email)     # it is return to the class , and it is availabe to the class\n",
    "    \n",
    "    @classmethod\n",
    "    def change_number(cls,mobile):   # if we don't create the classmethod and try to accesss throgh the classname , then it will give missing 1 positional argument, because it rquire instance object as a cls\n",
    "        Pwskills2.mobile_num = mobile\n",
    "    \n",
    "    def students_deatils(self):\n",
    "        print(self.name,self.email)"
   ]
  },
  {
   "cell_type": "code",
   "execution_count": 61,
   "id": "1a8481f6-afe4-4634-adfe-32a80b5a0e40",
   "metadata": {},
   "outputs": [],
   "source": [
    "def course_deatils(cls,course_name):\n",
    "    print(\"course name is : \",course_name)\n",
    "    "
   ]
  },
  {
   "cell_type": "code",
   "execution_count": 62,
   "id": "5fe0c6c9-80a8-4518-b17d-c039b11dcdad",
   "metadata": {},
   "outputs": [],
   "source": [
    "Pwskills3.course_deatils = classmethod(course_deatils)"
   ]
  },
  {
   "cell_type": "code",
   "execution_count": 64,
   "id": "ddc5f214-0579-438f-a152-98c3e86b1647",
   "metadata": {},
   "outputs": [
    {
     "name": "stdout",
     "output_type": "stream",
     "text": [
      "course name is :  Data science matster\n"
     ]
    }
   ],
   "source": [
    "Pwskills3.course_deatils(\"Data science matster\")"
   ]
  },
  {
   "cell_type": "code",
   "execution_count": 65,
   "id": "eb3eaa8b-7ff2-4f20-9cd4-490349ffe782",
   "metadata": {},
   "outputs": [],
   "source": [
    "def mentor(cls,list_of_mentor):\n",
    "    print(\"list of mentor\",list_of_mentor)\n",
    "    "
   ]
  },
  {
   "cell_type": "code",
   "execution_count": 67,
   "id": "95859a31-907d-431c-b5d7-68187ce47650",
   "metadata": {},
   "outputs": [],
   "source": [
    "Pwskills3.mentor = classmethod(mentor)"
   ]
  },
  {
   "cell_type": "code",
   "execution_count": 68,
   "id": "45cbbecd-35da-448a-80ce-31742feb1bb8",
   "metadata": {},
   "outputs": [
    {
     "name": "stdout",
     "output_type": "stream",
     "text": [
      "list of mentor ['sudh', 'krish', 'sobit']\n"
     ]
    }
   ],
   "source": [
    "Pwskills3.mentor([\"sudh\",\"krish\",\"sobit\"])"
   ]
  },
  {
   "cell_type": "code",
   "execution_count": 69,
   "id": "85fa26cf-c8d8-449c-9643-efcb53728b37",
   "metadata": {},
   "outputs": [],
   "source": [
    "# How to delete or diactivate the class function"
   ]
  },
  {
   "cell_type": "code",
   "execution_count": 70,
   "id": "d9b18b9d-4451-46c6-87b3-7d866af09838",
   "metadata": {},
   "outputs": [],
   "source": [
    "class Pwskills4:\n",
    "    \n",
    "    mobile_num=4242342424234\n",
    "    def __init__(self,name,email):\n",
    "        self.name = name\n",
    "        self.email = email\n",
    "        \n",
    "        \n",
    "    @classmethod\n",
    "    def deatils(cls,name,email):\n",
    "        return cls(name,email)     # it is return to the class , and it is availabe to the class\n",
    "    \n",
    "    @classmethod\n",
    "    def change_number(cls,mobile):   # if we don't create the classmethod and try to accesss throgh the classname , then it will give missing 1 positional argument, because it rquire instance object as a cls\n",
    "        Pwskills2.mobile_num = mobile\n",
    "    \n",
    "    def students_deatils(self):\n",
    "        print(self.name,self.email)"
   ]
  },
  {
   "cell_type": "code",
   "execution_count": 71,
   "id": "d9f5fd95-fae6-4352-8a7d-bd5e45e22fe3",
   "metadata": {},
   "outputs": [],
   "source": [
    "del Pwskills4.change_number"
   ]
  },
  {
   "cell_type": "code",
   "execution_count": 72,
   "id": "64bbcb49-12ed-486d-9035-a28f9354921b",
   "metadata": {},
   "outputs": [
    {
     "ename": "AttributeError",
     "evalue": "type object 'Pwskills4' has no attribute 'change_number'",
     "output_type": "error",
     "traceback": [
      "\u001b[0;31m---------------------------------------------------------------------------\u001b[0m",
      "\u001b[0;31mAttributeError\u001b[0m                            Traceback (most recent call last)",
      "Cell \u001b[0;32mIn[72], line 1\u001b[0m\n\u001b[0;32m----> 1\u001b[0m \u001b[43mPwskills4\u001b[49m\u001b[38;5;241;43m.\u001b[39;49m\u001b[43mchange_number\u001b[49m(\u001b[38;5;241m4232\u001b[39m)\n",
      "\u001b[0;31mAttributeError\u001b[0m: type object 'Pwskills4' has no attribute 'change_number'"
     ]
    }
   ],
   "source": [
    "Pwskills4.change_number(4232)"
   ]
  },
  {
   "cell_type": "code",
   "execution_count": 73,
   "id": "65fb14a3-b17e-4bdb-853f-7008e2425ccb",
   "metadata": {},
   "outputs": [],
   "source": [
    "# another way\n",
    "delattr(Pwskills4,\"deatils\")"
   ]
  },
  {
   "cell_type": "code",
   "execution_count": 74,
   "id": "d576d5af-1771-4ff4-8d7d-ec03836bbd5d",
   "metadata": {},
   "outputs": [
    {
     "ename": "AttributeError",
     "evalue": "type object 'Pwskills4' has no attribute 'deatils'",
     "output_type": "error",
     "traceback": [
      "\u001b[0;31m---------------------------------------------------------------------------\u001b[0m",
      "\u001b[0;31mAttributeError\u001b[0m                            Traceback (most recent call last)",
      "Cell \u001b[0;32mIn[74], line 1\u001b[0m\n\u001b[0;32m----> 1\u001b[0m \u001b[43mPwskills4\u001b[49m\u001b[38;5;241;43m.\u001b[39;49m\u001b[43mdeatils\u001b[49m(\u001b[38;5;124m\"\u001b[39m\u001b[38;5;124mpawan\u001b[39m\u001b[38;5;124m\"\u001b[39m,\u001b[38;5;124m\"\u001b[39m\u001b[38;5;124mpawan@gmail.com\u001b[39m\u001b[38;5;124m\"\u001b[39m)\n",
      "\u001b[0;31mAttributeError\u001b[0m: type object 'Pwskills4' has no attribute 'deatils'"
     ]
    }
   ],
   "source": [
    "Pwskills4.deatils(\"pawan\",\"pawan@gmail.com\")"
   ]
  },
  {
   "cell_type": "code",
   "execution_count": 75,
   "id": "be888e6c-4209-46e0-b4ce-f5b71a8c8c52",
   "metadata": {},
   "outputs": [],
   "source": [
    "delattr(Pwskills4,\"students_deatils\")"
   ]
  },
  {
   "cell_type": "code",
   "execution_count": 76,
   "id": "ad2f2f42-5091-4629-8d5f-f69320ab1812",
   "metadata": {},
   "outputs": [
    {
     "ename": "AttributeError",
     "evalue": "type object 'Pwskills4' has no attribute 'students_deatils'",
     "output_type": "error",
     "traceback": [
      "\u001b[0;31m---------------------------------------------------------------------------\u001b[0m",
      "\u001b[0;31mAttributeError\u001b[0m                            Traceback (most recent call last)",
      "Cell \u001b[0;32mIn[76], line 1\u001b[0m\n\u001b[0;32m----> 1\u001b[0m \u001b[43mPwskills4\u001b[49m\u001b[38;5;241;43m.\u001b[39;49m\u001b[43mstudents_deatils\u001b[49m()\n",
      "\u001b[0;31mAttributeError\u001b[0m: type object 'Pwskills4' has no attribute 'students_deatils'"
     ]
    }
   ],
   "source": [
    "Pwskills4.students_deatils()"
   ]
  },
  {
   "cell_type": "code",
   "execution_count": 77,
   "id": "d76a1241-8e64-45a9-8f90-f4b58d9b28a2",
   "metadata": {},
   "outputs": [],
   "source": [
    "delattr(Pwskills4,\"mobile_num\")"
   ]
  },
  {
   "cell_type": "code",
   "execution_count": 78,
   "id": "87d19bb5-ea22-449f-a2d7-f1fdb08cc997",
   "metadata": {},
   "outputs": [
    {
     "ename": "AttributeError",
     "evalue": "type object 'Pwskills4' has no attribute 'mobile_num'",
     "output_type": "error",
     "traceback": [
      "\u001b[0;31m---------------------------------------------------------------------------\u001b[0m",
      "\u001b[0;31mAttributeError\u001b[0m                            Traceback (most recent call last)",
      "Cell \u001b[0;32mIn[78], line 1\u001b[0m\n\u001b[0;32m----> 1\u001b[0m \u001b[43mPwskills4\u001b[49m\u001b[38;5;241;43m.\u001b[39;49m\u001b[43mmobile_num\u001b[49m\n",
      "\u001b[0;31mAttributeError\u001b[0m: type object 'Pwskills4' has no attribute 'mobile_num'"
     ]
    }
   ],
   "source": [
    "Pwskills4.mobile_num"
   ]
  },
  {
   "cell_type": "code",
   "execution_count": null,
   "id": "211593eb-fcd2-4512-8815-7adbd34e7eba",
   "metadata": {},
   "outputs": [],
   "source": []
  }
 ],
 "metadata": {
  "kernelspec": {
   "display_name": "Python 3 (ipykernel)",
   "language": "python",
   "name": "python3"
  },
  "language_info": {
   "codemirror_mode": {
    "name": "ipython",
    "version": 3
   },
   "file_extension": ".py",
   "mimetype": "text/x-python",
   "name": "python",
   "nbconvert_exporter": "python",
   "pygments_lexer": "ipython3",
   "version": "3.10.8"
  }
 },
 "nbformat": 4,
 "nbformat_minor": 5
}
