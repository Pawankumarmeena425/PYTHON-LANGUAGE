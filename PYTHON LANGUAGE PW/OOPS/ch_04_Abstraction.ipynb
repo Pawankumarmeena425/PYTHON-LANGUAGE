{
 "cells": [
  {
   "cell_type": "code",
   "execution_count": 35,
   "id": "37aaefca-066c-4df6-b7e8-e262f768569f",
   "metadata": {},
   "outputs": [],
   "source": [
    "# Abstract : Abstract class use to create bluprint\n"
   ]
  },
  {
   "cell_type": "code",
   "execution_count": 39,
   "id": "d00f5b90-c0e5-4079-b971-526579db1108",
   "metadata": {},
   "outputs": [],
   "source": [
    "import abc\n",
    "class pwskills:\n",
    "    @abc.abstractclassmethod\n",
    "    def students_deatils(self):\n",
    "        pass\n",
    "    @abc.abstractclassmethod\n",
    "    def students_assignment(self):\n",
    "        pass\n",
    "    @abc.abstractclassmethod\n",
    "    def students_marks(self):\n",
    "        pass"
   ]
  },
  {
   "cell_type": "code",
   "execution_count": 40,
   "id": "05561e8a-f84e-4e95-b3c4-b53ed4944062",
   "metadata": {},
   "outputs": [],
   "source": [
    "class student_deatils(pwskills):\n",
    "    def students_deatils(self):\n",
    "        return \"this is method for taking students deatils \"\n",
    "    def students_assignment(self):\n",
    "        return \"this is a method for assing deatils for a perticularr studetns \""
   ]
  },
  {
   "cell_type": "code",
   "execution_count": 41,
   "id": "3b6f1746-0721-4182-b86a-30f4f49d4716",
   "metadata": {},
   "outputs": [],
   "source": [
    "class data_science_masters(pwskills):\n",
    "    def students_deatils(self):\n",
    "        return \"this is method for taking students deatils for data science master\"\n",
    "    def students_assignment(self):\n",
    "        return \"this is a method for assing deatils for a perticularr studetns for data science master\""
   ]
  },
  {
   "cell_type": "code",
   "execution_count": 45,
   "id": "e1d20b89-683b-4447-8f0b-b6a4c479f3ac",
   "metadata": {},
   "outputs": [
    {
     "data": {
      "text/plain": [
       "'this is method for taking students deatils for data science master'"
      ]
     },
     "execution_count": 45,
     "metadata": {},
     "output_type": "execute_result"
    }
   ],
   "source": [
    "obj1 = data_science_masters()\n",
    "obj1.students_assignment()\n",
    "obj1.students_deatils()"
   ]
  },
  {
   "cell_type": "code",
   "execution_count": 1,
   "id": "a4a6a293-75c1-4c4f-8c92-608afe06b4b5",
   "metadata": {},
   "outputs": [],
   "source": [
    "# Abstraction : Abstraction means hiding the internal deatils\n",
    "# Abstraction impasis how to use application, not how to implements it"
   ]
  },
  {
   "cell_type": "code",
   "execution_count": 2,
   "id": "20c14c82-1d2c-4a8a-92dc-d42abad76df4",
   "metadata": {},
   "outputs": [],
   "source": [
    "class Shape:\n",
    "    def area(self):\n",
    "        pass\n",
    "    def primeter(self):\n",
    "        pass"
   ]
  },
  {
   "cell_type": "code",
   "execution_count": 3,
   "id": "40303003-9e3d-4e12-9ac1-c1b4a5f9a4ac",
   "metadata": {},
   "outputs": [],
   "source": [
    "class Square(Shape):\n",
    "    def __init__(self,s):\n",
    "        self.side = s"
   ]
  },
  {
   "cell_type": "code",
   "execution_count": 4,
   "id": "d5437449-f591-4810-85ad-df61980d9df5",
   "metadata": {},
   "outputs": [],
   "source": [
    "s = Square(5)"
   ]
  },
  {
   "cell_type": "code",
   "execution_count": 6,
   "id": "dda34984-5183-4d8d-bb94-0da0a89a45ca",
   "metadata": {},
   "outputs": [],
   "source": [
    "sh = Shape()   # able to create Shape class object , no problem"
   ]
  },
  {
   "cell_type": "code",
   "execution_count": null,
   "id": "27c042aa-b7b3-4c19-b219-3fe3c6436380",
   "metadata": {},
   "outputs": [],
   "source": []
  },
  {
   "cell_type": "code",
   "execution_count": 9,
   "id": "a123ba00-cc11-4cdd-8b19-1fcb391bd925",
   "metadata": {},
   "outputs": [],
   "source": [
    "from abc import ABC , abstractmethod"
   ]
  },
  {
   "cell_type": "code",
   "execution_count": 13,
   "id": "a1a79277-9df9-43ff-940b-0118441eb3de",
   "metadata": {},
   "outputs": [],
   "source": [
    "class Shape(ABC):\n",
    "    @abstractmethod\n",
    "    def area(self):\n",
    "        pass\n",
    "    @abstractmethod\n",
    "    def primeter(self):\n",
    "        pass"
   ]
  },
  {
   "cell_type": "code",
   "execution_count": 14,
   "id": "1c64c9ef-6563-4269-b535-6e18fa073310",
   "metadata": {},
   "outputs": [],
   "source": [
    "class Square(Shape):\n",
    "    def __init__(self,s):\n",
    "        self.side =  s"
   ]
  },
  {
   "cell_type": "code",
   "execution_count": 15,
   "id": "e39fb230-bd45-42ad-a916-73b78b84db66",
   "metadata": {},
   "outputs": [
    {
     "ename": "TypeError",
     "evalue": "Can't instantiate abstract class Shape with abstract methods area, primeter",
     "output_type": "error",
     "traceback": [
      "\u001b[0;31m---------------------------------------------------------------------------\u001b[0m",
      "\u001b[0;31mTypeError\u001b[0m                                 Traceback (most recent call last)",
      "Cell \u001b[0;32mIn[15], line 1\u001b[0m\n\u001b[0;32m----> 1\u001b[0m sh \u001b[38;5;241m=\u001b[39m \u001b[43mShape\u001b[49m\u001b[43m(\u001b[49m\u001b[43m)\u001b[49m\n",
      "\u001b[0;31mTypeError\u001b[0m: Can't instantiate abstract class Shape with abstract methods area, primeter"
     ]
    }
   ],
   "source": [
    "sh = Shape()"
   ]
  },
  {
   "cell_type": "code",
   "execution_count": 16,
   "id": "bfd5b2c7-e25b-468d-8068-702d890a3dca",
   "metadata": {},
   "outputs": [
    {
     "ename": "TypeError",
     "evalue": "Can't instantiate abstract class Square with abstract methods area, primeter",
     "output_type": "error",
     "traceback": [
      "\u001b[0;31m---------------------------------------------------------------------------\u001b[0m",
      "\u001b[0;31mTypeError\u001b[0m                                 Traceback (most recent call last)",
      "Cell \u001b[0;32mIn[16], line 1\u001b[0m\n\u001b[0;32m----> 1\u001b[0m s \u001b[38;5;241m=\u001b[39m \u001b[43mSquare\u001b[49m\u001b[43m(\u001b[49m\u001b[43m)\u001b[49m\n",
      "\u001b[0;31mTypeError\u001b[0m: Can't instantiate abstract class Square with abstract methods area, primeter"
     ]
    }
   ],
   "source": [
    "s = Square()"
   ]
  },
  {
   "cell_type": "code",
   "execution_count": 17,
   "id": "dbbf2862-45e9-4c68-9fbb-176c179ffe8b",
   "metadata": {},
   "outputs": [],
   "source": [
    "# Note : we can't create object of the abstract class\n",
    "#  And also not create object of which class which are inherate the abstract class,till all abstract method not implemetns"
   ]
  },
  {
   "cell_type": "code",
   "execution_count": 28,
   "id": "d51c8b8e-e117-4301-ae85-7be1ef527744",
   "metadata": {},
   "outputs": [],
   "source": [
    "class Shape(ABC):\n",
    "    @abstractmethod\n",
    "    def area(self):\n",
    "        pass\n",
    "    @abstractmethod\n",
    "    def primeter(self):\n",
    "        pass"
   ]
  },
  {
   "cell_type": "code",
   "execution_count": 29,
   "id": "d266278e-44b5-4a3e-894a-c10a5b15e352",
   "metadata": {},
   "outputs": [],
   "source": [
    "class Square(Shape):\n",
    "    def __init__(self,s):\n",
    "        self.side =  s\n",
    "    def area(self):\n",
    "        return self.side*self.side\n",
    "    def primeter(self):\n",
    "        return 4*self.side"
   ]
  },
  {
   "cell_type": "code",
   "execution_count": 30,
   "id": "63140ca4-7a6d-411f-81e8-f4406b03e6a5",
   "metadata": {},
   "outputs": [
    {
     "ename": "TypeError",
     "evalue": "Can't instantiate abstract class Shape with abstract methods area, primeter",
     "output_type": "error",
     "traceback": [
      "\u001b[0;31m---------------------------------------------------------------------------\u001b[0m",
      "\u001b[0;31mTypeError\u001b[0m                                 Traceback (most recent call last)",
      "Cell \u001b[0;32mIn[30], line 1\u001b[0m\n\u001b[0;32m----> 1\u001b[0m s \u001b[38;5;241m=\u001b[39m \u001b[43mShape\u001b[49m\u001b[43m(\u001b[49m\u001b[43m)\u001b[49m\n",
      "\u001b[0;31mTypeError\u001b[0m: Can't instantiate abstract class Shape with abstract methods area, primeter"
     ]
    }
   ],
   "source": [
    "s = Shape()"
   ]
  },
  {
   "cell_type": "code",
   "execution_count": 32,
   "id": "3c1b6d34-2803-44c0-827a-b236f62eb063",
   "metadata": {},
   "outputs": [],
   "source": [
    "obj =  Square(5)"
   ]
  },
  {
   "cell_type": "code",
   "execution_count": 33,
   "id": "c9789c26-7c29-4019-b6e3-7d40d5ec5232",
   "metadata": {},
   "outputs": [
    {
     "data": {
      "text/plain": [
       "25"
      ]
     },
     "execution_count": 33,
     "metadata": {},
     "output_type": "execute_result"
    }
   ],
   "source": [
    "obj.area()"
   ]
  },
  {
   "cell_type": "code",
   "execution_count": 34,
   "id": "387d3f92-aff6-44e2-abf9-5c24673cdcb3",
   "metadata": {},
   "outputs": [
    {
     "data": {
      "text/plain": [
       "20"
      ]
     },
     "execution_count": 34,
     "metadata": {},
     "output_type": "execute_result"
    }
   ],
   "source": [
    "obj.primeter()"
   ]
  },
  {
   "cell_type": "code",
   "execution_count": null,
   "id": "7c042fec-b48d-45de-8d62-3af71b18c157",
   "metadata": {},
   "outputs": [],
   "source": []
  }
 ],
 "metadata": {
  "kernelspec": {
   "display_name": "Python 3 (ipykernel)",
   "language": "python",
   "name": "python3"
  },
  "language_info": {
   "codemirror_mode": {
    "name": "ipython",
    "version": 3
   },
   "file_extension": ".py",
   "mimetype": "text/x-python",
   "name": "python",
   "nbconvert_exporter": "python",
   "pygments_lexer": "ipython3",
   "version": "3.10.8"
  }
 },
 "nbformat": 4,
 "nbformat_minor": 5
}
