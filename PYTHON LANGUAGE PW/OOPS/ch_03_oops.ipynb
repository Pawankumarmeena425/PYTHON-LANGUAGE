{
 "cells": [
  {
   "cell_type": "code",
   "execution_count": 1,
   "id": "7d422e7f-b53c-473c-ab74-857671a6dc32",
   "metadata": {},
   "outputs": [],
   "source": [
    "class pwskills:\n",
    "    def student_deatils(self,name,mail_id,number):\n",
    "        print(name,mail_id,number)"
   ]
  },
  {
   "cell_type": "code",
   "execution_count": 2,
   "id": "d59c7c1b-ea19-4300-8c42-275b0313bd6d",
   "metadata": {},
   "outputs": [],
   "source": [
    "pw = pwskills()"
   ]
  },
  {
   "cell_type": "code",
   "execution_count": 4,
   "id": "fcf338a9-d821-4696-a482-22231ea4d7b6",
   "metadata": {},
   "outputs": [
    {
     "name": "stdout",
     "output_type": "stream",
     "text": [
      "sudh sudh@gmail.com 423424\n"
     ]
    }
   ],
   "source": [
    "pw.student_deatils(\"sudh\",\"sudh@gmail.com\",423424)"
   ]
  },
  {
   "cell_type": "code",
   "execution_count": 5,
   "id": "541fdf24-93be-47aa-92ea-520dd0c899e3",
   "metadata": {},
   "outputs": [],
   "source": [
    "# normal way we use"
   ]
  },
  {
   "cell_type": "code",
   "execution_count": 10,
   "id": "e7aeac5f-21c2-4d83-b6cf-ca444188a0f1",
   "metadata": {},
   "outputs": [],
   "source": [
    "class pwskills1:\n",
    "    def student_deatils(self,name,mail_id,number):\n",
    "        print(name,mail_id,number)\n",
    "        \n",
    "    @staticmethod\n",
    "    def mentor_class(list_mentor):\n",
    "        print(list_mentor)\n",
    "        \n",
    "    def mentor(self,mentor_list):\n",
    "        print(mentor_list)"
   ]
  },
  {
   "cell_type": "code",
   "execution_count": 11,
   "id": "475b353c-1b3f-437c-825c-e519981d31a9",
   "metadata": {},
   "outputs": [
    {
     "name": "stdout",
     "output_type": "stream",
     "text": [
      "['sudh', 'krish']\n"
     ]
    }
   ],
   "source": [
    "pwskills1.mentor_class([\"sudh\",\"krish\"])"
   ]
  },
  {
   "cell_type": "code",
   "execution_count": 12,
   "id": "87bee481-0771-4e1a-bf1d-0e605982a736",
   "metadata": {},
   "outputs": [],
   "source": [
    "# staticmethon use to access without create the instance object\n",
    "# it use when number of instance is more and we wnat ot access , without the instance name"
   ]
  },
  {
   "cell_type": "code",
   "execution_count": 13,
   "id": "7f0972a0-a1a4-4a98-9912-6f4b54683492",
   "metadata": {},
   "outputs": [],
   "source": [
    "stu1 = pwskills1()\n",
    "stu2 = pwskills1()\n",
    "stu3 = pwskills1()"
   ]
  },
  {
   "cell_type": "code",
   "execution_count": 16,
   "id": "bf45f3b1-4b4a-4683-8c0f-ff87687581a8",
   "metadata": {},
   "outputs": [
    {
     "name": "stdout",
     "output_type": "stream",
     "text": [
      "['sudh', 'krish']\n"
     ]
    }
   ],
   "source": [
    "stu1.mentor([\"sudh\",\"krish\"])"
   ]
  },
  {
   "cell_type": "code",
   "execution_count": 18,
   "id": "06e8f325-21af-4260-bd0a-ab7291f02b7f",
   "metadata": {},
   "outputs": [],
   "source": [
    "# when number of students is high , then create object of each and it increase the memory consumption\n",
    "# but with the help of the staticmethod it decrease memory consumption"
   ]
  },
  {
   "cell_type": "code",
   "execution_count": null,
   "id": "a929f650-1ac9-4dd9-97ac-22d6ba377928",
   "metadata": {},
   "outputs": [],
   "source": []
  },
  {
   "cell_type": "code",
   "execution_count": null,
   "id": "9c406376-2f4c-4bf2-8d2c-94f9be70c815",
   "metadata": {},
   "outputs": [],
   "source": [
    "# how use staticmethod inside the classmethod\n",
    "# and how to use staticmethod inside the staticmethod"
   ]
  },
  {
   "cell_type": "code",
   "execution_count": 39,
   "id": "2c80d574-ca58-4580-8913-7950a4b51dca",
   "metadata": {},
   "outputs": [],
   "source": [
    "class pwskills2:\n",
    "    def student_deatils(self,name,mail_id,number):\n",
    "        print(name,mail_id,number)\n",
    "        \n",
    "    @staticmethod\n",
    "    def mentor_class(list_mentor):\n",
    "        print(list_mentor)\n",
    "        pwskills2.mentor_mail([\"sudh@gmail.com\",\"krish@gmail.com\"])\n",
    "        \n",
    "    @classmethod\n",
    "    def class_name(cls,list_mentor):\n",
    "        cls.mentor_class(list_mentor)\n",
    "        \n",
    "        \n",
    "    @staticmethod\n",
    "    def mentor_mail(mail_id):\n",
    "        print(mail_id)\n",
    "        \n",
    "#         call static method inside the instance method\n",
    "    def mentor(self,mentor_list):\n",
    "        print(mentor_list)\n",
    "        self.mentor_class([\"krish\",\"sudh\"])"
   ]
  },
  {
   "cell_type": "code",
   "execution_count": 40,
   "id": "148e181a-f84a-42f7-983e-3316ef910f57",
   "metadata": {},
   "outputs": [
    {
     "name": "stdout",
     "output_type": "stream",
     "text": [
      "['sudh', 'krish']\n",
      "['sudh@gmail.com', 'krish@gmail.com']\n"
     ]
    }
   ],
   "source": [
    "pwskills2.class_name([\"sudh\",\"krish\"])"
   ]
  },
  {
   "cell_type": "code",
   "execution_count": 41,
   "id": "066abeb8-2752-4a4a-9225-b1d61bd6c4ed",
   "metadata": {},
   "outputs": [
    {
     "name": "stdout",
     "output_type": "stream",
     "text": [
      "['sudh', 'krish']\n",
      "['sudh@gmail.com', 'krish@gmail.com']\n"
     ]
    }
   ],
   "source": [
    "pwskills2.mentor_class([\"sudh\",\"krish\"])"
   ]
  },
  {
   "cell_type": "code",
   "execution_count": 42,
   "id": "5964fa03-985c-472e-9524-1ff322c0aa16",
   "metadata": {},
   "outputs": [],
   "source": [
    "pw2 = pwskills2()"
   ]
  },
  {
   "cell_type": "code",
   "execution_count": 43,
   "id": "86bbd886-09e7-4389-a74b-9c2cc68119f1",
   "metadata": {},
   "outputs": [
    {
     "name": "stdout",
     "output_type": "stream",
     "text": [
      "['sudh', 'krish']\n",
      "['krish', 'sudh']\n",
      "['sudh@gmail.com', 'krish@gmail.com']\n"
     ]
    }
   ],
   "source": [
    "pw2.mentor([\"sudh\",\"krish\"])"
   ]
  },
  {
   "cell_type": "code",
   "execution_count": 45,
   "id": "03c62f52-8cd7-4578-8ad7-e9bb90be4c25",
   "metadata": {},
   "outputs": [],
   "source": [
    "# ************************Static method use where , we require infinity task*******************"
   ]
  },
  {
   "cell_type": "code",
   "execution_count": null,
   "id": "2ba0a232-3679-4670-b984-baf35ec4b484",
   "metadata": {},
   "outputs": [],
   "source": []
  },
  {
   "cell_type": "code",
   "execution_count": 46,
   "id": "c281edad-c2b7-44db-be07-37a743871d0f",
   "metadata": {},
   "outputs": [],
   "source": [
    "# SPECIAL (MAGIC OR DUNDER) METHOD "
   ]
  },
  {
   "cell_type": "code",
   "execution_count": 47,
   "id": "09c1a097-63b5-4212-8518-fc82e6ae40f4",
   "metadata": {},
   "outputs": [
    {
     "data": {
      "text/plain": [
       "['__abs__',\n",
       " '__add__',\n",
       " '__and__',\n",
       " '__bool__',\n",
       " '__ceil__',\n",
       " '__class__',\n",
       " '__delattr__',\n",
       " '__dir__',\n",
       " '__divmod__',\n",
       " '__doc__',\n",
       " '__eq__',\n",
       " '__float__',\n",
       " '__floor__',\n",
       " '__floordiv__',\n",
       " '__format__',\n",
       " '__ge__',\n",
       " '__getattribute__',\n",
       " '__getnewargs__',\n",
       " '__gt__',\n",
       " '__hash__',\n",
       " '__index__',\n",
       " '__init__',\n",
       " '__init_subclass__',\n",
       " '__int__',\n",
       " '__invert__',\n",
       " '__le__',\n",
       " '__lshift__',\n",
       " '__lt__',\n",
       " '__mod__',\n",
       " '__mul__',\n",
       " '__ne__',\n",
       " '__neg__',\n",
       " '__new__',\n",
       " '__or__',\n",
       " '__pos__',\n",
       " '__pow__',\n",
       " '__radd__',\n",
       " '__rand__',\n",
       " '__rdivmod__',\n",
       " '__reduce__',\n",
       " '__reduce_ex__',\n",
       " '__repr__',\n",
       " '__rfloordiv__',\n",
       " '__rlshift__',\n",
       " '__rmod__',\n",
       " '__rmul__',\n",
       " '__ror__',\n",
       " '__round__',\n",
       " '__rpow__',\n",
       " '__rrshift__',\n",
       " '__rshift__',\n",
       " '__rsub__',\n",
       " '__rtruediv__',\n",
       " '__rxor__',\n",
       " '__setattr__',\n",
       " '__sizeof__',\n",
       " '__str__',\n",
       " '__sub__',\n",
       " '__subclasshook__',\n",
       " '__truediv__',\n",
       " '__trunc__',\n",
       " '__xor__',\n",
       " 'as_integer_ratio',\n",
       " 'bit_count',\n",
       " 'bit_length',\n",
       " 'conjugate',\n",
       " 'denominator',\n",
       " 'from_bytes',\n",
       " 'imag',\n",
       " 'numerator',\n",
       " 'real',\n",
       " 'to_bytes']"
      ]
     },
     "execution_count": 47,
     "metadata": {},
     "output_type": "execute_result"
    }
   ],
   "source": [
    "dir(int)"
   ]
  },
  {
   "cell_type": "code",
   "execution_count": 48,
   "id": "f9211afe-d0d0-4eae-a02c-30aad9b6f578",
   "metadata": {},
   "outputs": [
    {
     "data": {
      "text/plain": [
       "['__add__',\n",
       " '__class__',\n",
       " '__contains__',\n",
       " '__delattr__',\n",
       " '__dir__',\n",
       " '__doc__',\n",
       " '__eq__',\n",
       " '__format__',\n",
       " '__ge__',\n",
       " '__getattribute__',\n",
       " '__getitem__',\n",
       " '__getnewargs__',\n",
       " '__gt__',\n",
       " '__hash__',\n",
       " '__init__',\n",
       " '__init_subclass__',\n",
       " '__iter__',\n",
       " '__le__',\n",
       " '__len__',\n",
       " '__lt__',\n",
       " '__mod__',\n",
       " '__mul__',\n",
       " '__ne__',\n",
       " '__new__',\n",
       " '__reduce__',\n",
       " '__reduce_ex__',\n",
       " '__repr__',\n",
       " '__rmod__',\n",
       " '__rmul__',\n",
       " '__setattr__',\n",
       " '__sizeof__',\n",
       " '__str__',\n",
       " '__subclasshook__',\n",
       " 'capitalize',\n",
       " 'casefold',\n",
       " 'center',\n",
       " 'count',\n",
       " 'encode',\n",
       " 'endswith',\n",
       " 'expandtabs',\n",
       " 'find',\n",
       " 'format',\n",
       " 'format_map',\n",
       " 'index',\n",
       " 'isalnum',\n",
       " 'isalpha',\n",
       " 'isascii',\n",
       " 'isdecimal',\n",
       " 'isdigit',\n",
       " 'isidentifier',\n",
       " 'islower',\n",
       " 'isnumeric',\n",
       " 'isprintable',\n",
       " 'isspace',\n",
       " 'istitle',\n",
       " 'isupper',\n",
       " 'join',\n",
       " 'ljust',\n",
       " 'lower',\n",
       " 'lstrip',\n",
       " 'maketrans',\n",
       " 'partition',\n",
       " 'removeprefix',\n",
       " 'removesuffix',\n",
       " 'replace',\n",
       " 'rfind',\n",
       " 'rindex',\n",
       " 'rjust',\n",
       " 'rpartition',\n",
       " 'rsplit',\n",
       " 'rstrip',\n",
       " 'split',\n",
       " 'splitlines',\n",
       " 'startswith',\n",
       " 'strip',\n",
       " 'swapcase',\n",
       " 'title',\n",
       " 'translate',\n",
       " 'upper',\n",
       " 'zfill']"
      ]
     },
     "execution_count": 48,
     "metadata": {},
     "output_type": "execute_result"
    }
   ],
   "source": [
    "dir(str)"
   ]
  },
  {
   "cell_type": "code",
   "execution_count": 49,
   "id": "2b23a4d2-47f9-4724-8311-16b455496e3e",
   "metadata": {},
   "outputs": [],
   "source": [
    "a =  100"
   ]
  },
  {
   "cell_type": "code",
   "execution_count": 50,
   "id": "d2378478-6cf2-40bb-8882-bfff690eb2e2",
   "metadata": {},
   "outputs": [
    {
     "data": {
      "text/plain": [
       "105"
      ]
     },
     "execution_count": 50,
     "metadata": {},
     "output_type": "execute_result"
    }
   ],
   "source": [
    "a+5"
   ]
  },
  {
   "cell_type": "code",
   "execution_count": 51,
   "id": "3d53fb90-e1be-40de-8858-63023701ad4b",
   "metadata": {},
   "outputs": [
    {
     "data": {
      "text/plain": [
       "105"
      ]
     },
     "execution_count": 51,
     "metadata": {},
     "output_type": "execute_result"
    }
   ],
   "source": [
    "a.__add__(5)  # internally system work like this"
   ]
  },
  {
   "cell_type": "code",
   "execution_count": 67,
   "id": "264c0241-8208-4a38-bd8d-5e8c10adc066",
   "metadata": {},
   "outputs": [],
   "source": [
    "class pwskills:\n",
    "    \n",
    "    def __new__(cls):\n",
    "        print(\"this is my new\")\n",
    "    \n",
    "    def __init__(self):\n",
    "        print(\"this is my init\")\n",
    "        \n",
    "        "
   ]
  },
  {
   "cell_type": "code",
   "execution_count": 68,
   "id": "a56dbc8f-5710-4abb-9a2b-d84d9f1fcef5",
   "metadata": {},
   "outputs": [
    {
     "name": "stdout",
     "output_type": "stream",
     "text": [
      "this is my new\n"
     ]
    }
   ],
   "source": [
    "pw  =pwskills()   # before the __init__ function , __new__ funciton call internally"
   ]
  },
  {
   "cell_type": "code",
   "execution_count": 69,
   "id": "2b3f6650-5a22-4187-a7ca-d89fe32f2837",
   "metadata": {},
   "outputs": [],
   "source": [
    "# Generally it advise to avoid the use of dunder function"
   ]
  },
  {
   "cell_type": "code",
   "execution_count": null,
   "id": "4205f9ec-d2dc-44b4-a128-69e8c95ea8fb",
   "metadata": {},
   "outputs": [],
   "source": []
  },
  {
   "cell_type": "code",
   "execution_count": 70,
   "id": "6664e91c-362b-401a-8dcd-caf60c3c6124",
   "metadata": {},
   "outputs": [],
   "source": [
    "# with the help of the magic function , we can print something for our objects"
   ]
  },
  {
   "cell_type": "code",
   "execution_count": 71,
   "id": "d2c01374-cbef-40f2-ab96-a874fe666d10",
   "metadata": {},
   "outputs": [],
   "source": [
    "class pwskills2:\n",
    "    def __init__(self):\n",
    "        \n",
    "        self.mobile_number =23423423342\n",
    "    \n",
    "    def __str__(self):\n",
    "        return \"this is my magic call of str\""
   ]
  },
  {
   "cell_type": "code",
   "execution_count": 72,
   "id": "9c4f0e69-1bfd-4814-a58f-fdd655509114",
   "metadata": {},
   "outputs": [],
   "source": [
    "pw2 = pwskills2()"
   ]
  },
  {
   "cell_type": "code",
   "execution_count": 73,
   "id": "6ed9c251-fd28-4b73-ad19-3c754a5d62d8",
   "metadata": {},
   "outputs": [
    {
     "name": "stdout",
     "output_type": "stream",
     "text": [
      "this is my magic call of str\n"
     ]
    }
   ],
   "source": [
    "print(pw2)"
   ]
  },
  {
   "cell_type": "code",
   "execution_count": null,
   "id": "f54b9e32-739b-424c-b86b-5e556eb4b097",
   "metadata": {},
   "outputs": [],
   "source": [
    "\n"
   ]
  },
  {
   "cell_type": "code",
   "execution_count": null,
   "id": "84752f77-133f-4c1e-8786-666ffa1704e3",
   "metadata": {},
   "outputs": [],
   "source": []
  },
  {
   "cell_type": "code",
   "execution_count": 74,
   "id": "9b731a32-7dbc-4b28-b231-5c68bbc89b1c",
   "metadata": {},
   "outputs": [],
   "source": [
    "# PROPERTY DECORATORS  : with the help of the property decorators, we can access and modified to the private and protacted attributes"
   ]
  },
  {
   "cell_type": "code",
   "execution_count": 98,
   "id": "ac394295-7bff-4029-81d7-f7419edd028e",
   "metadata": {},
   "outputs": [],
   "source": [
    "class pwskills4:\n",
    "    \n",
    "    def __init__(self,course_price,course_name):\n",
    "        \n",
    "        self.__course_price   =course_price\n",
    "        self.course_name = course_name\n",
    "        \n",
    "    @property\n",
    "    def course_price_access(self):\n",
    "        return self.__course_price\n",
    "    \n",
    "    @course_price_access.setter\n",
    "    def course_price_set(self,price):\n",
    "        if price<=3500:\n",
    "            pass\n",
    "        else :\n",
    "            self.__course_price = price\n",
    "            \n",
    "            \n",
    "    @course_price_access.deleter\n",
    "    def delete_course_price(self):\n",
    "        del self.__course_price"
   ]
  },
  {
   "cell_type": "code",
   "execution_count": 99,
   "id": "da35101b-d009-458f-b5b3-b125346cc399",
   "metadata": {},
   "outputs": [],
   "source": [
    "pw  =  pwskills4(242,\"data science \")"
   ]
  },
  {
   "cell_type": "code",
   "execution_count": 100,
   "id": "6e939907-a28b-4537-9e35-85911d3a1527",
   "metadata": {},
   "outputs": [
    {
     "ename": "AttributeError",
     "evalue": "'pwskills4' object has no attribute '__course_price'",
     "output_type": "error",
     "traceback": [
      "\u001b[0;31m---------------------------------------------------------------------------\u001b[0m",
      "\u001b[0;31mAttributeError\u001b[0m                            Traceback (most recent call last)",
      "Cell \u001b[0;32mIn[100], line 1\u001b[0m\n\u001b[0;32m----> 1\u001b[0m \u001b[43mpw\u001b[49m\u001b[38;5;241;43m.\u001b[39;49m\u001b[43m__course_price\u001b[49m\n",
      "\u001b[0;31mAttributeError\u001b[0m: 'pwskills4' object has no attribute '__course_price'"
     ]
    }
   ],
   "source": [
    "pw.__course_price"
   ]
  },
  {
   "cell_type": "code",
   "execution_count": 101,
   "id": "7acc2ed0-b5fc-493d-be19-4417dc000c17",
   "metadata": {},
   "outputs": [
    {
     "data": {
      "text/plain": [
       "242"
      ]
     },
     "execution_count": 101,
     "metadata": {},
     "output_type": "execute_result"
    }
   ],
   "source": [
    "pw.course_price_access"
   ]
  },
  {
   "cell_type": "code",
   "execution_count": 102,
   "id": "3ec1527b-b881-4463-bac2-4c5fbd50a305",
   "metadata": {},
   "outputs": [
    {
     "ename": "TypeError",
     "evalue": "'int' object is not callable",
     "output_type": "error",
     "traceback": [
      "\u001b[0;31m---------------------------------------------------------------------------\u001b[0m",
      "\u001b[0;31mTypeError\u001b[0m                                 Traceback (most recent call last)",
      "Cell \u001b[0;32mIn[102], line 1\u001b[0m\n\u001b[0;32m----> 1\u001b[0m \u001b[43mpw\u001b[49m\u001b[38;5;241;43m.\u001b[39;49m\u001b[43mcourse_price_set\u001b[49m\u001b[43m(\u001b[49m\u001b[38;5;241;43m4342\u001b[39;49m\u001b[43m)\u001b[49m\n",
      "\u001b[0;31mTypeError\u001b[0m: 'int' object is not callable"
     ]
    }
   ],
   "source": [
    "pw.course_price_set(4342)"
   ]
  },
  {
   "cell_type": "code",
   "execution_count": 105,
   "id": "3071cb34-2871-4fb9-b64a-eb481425186c",
   "metadata": {},
   "outputs": [],
   "source": [
    "pw.course_price_set=456345"
   ]
  },
  {
   "cell_type": "code",
   "execution_count": 106,
   "id": "6f3f5d0b-7542-421d-8ac4-4d0cef07689c",
   "metadata": {},
   "outputs": [
    {
     "data": {
      "text/plain": [
       "456345"
      ]
     },
     "execution_count": 106,
     "metadata": {},
     "output_type": "execute_result"
    }
   ],
   "source": [
    "pw.course_price_access"
   ]
  },
  {
   "cell_type": "code",
   "execution_count": 109,
   "id": "44ad87ea-d881-409f-957c-53b9b132bc65",
   "metadata": {},
   "outputs": [],
   "source": [
    "del pw.delete_course_price"
   ]
  },
  {
   "cell_type": "code",
   "execution_count": 110,
   "id": "a7110d5a-e082-4e33-9f1a-18274f5af03b",
   "metadata": {},
   "outputs": [
    {
     "ename": "AttributeError",
     "evalue": "'pwskills4' object has no attribute '_pwskills4__course_price'",
     "output_type": "error",
     "traceback": [
      "\u001b[0;31m---------------------------------------------------------------------------\u001b[0m",
      "\u001b[0;31mAttributeError\u001b[0m                            Traceback (most recent call last)",
      "Cell \u001b[0;32mIn[110], line 1\u001b[0m\n\u001b[0;32m----> 1\u001b[0m \u001b[43mpw\u001b[49m\u001b[38;5;241;43m.\u001b[39;49m\u001b[43mcourse_price_access\u001b[49m\n",
      "Cell \u001b[0;32mIn[98], line 10\u001b[0m, in \u001b[0;36mpwskills4.course_price_access\u001b[0;34m(self)\u001b[0m\n\u001b[1;32m      8\u001b[0m \u001b[38;5;129m@property\u001b[39m\n\u001b[1;32m      9\u001b[0m \u001b[38;5;28;01mdef\u001b[39;00m \u001b[38;5;21mcourse_price_access\u001b[39m(\u001b[38;5;28mself\u001b[39m):\n\u001b[0;32m---> 10\u001b[0m     \u001b[38;5;28;01mreturn\u001b[39;00m \u001b[38;5;28;43mself\u001b[39;49m\u001b[38;5;241;43m.\u001b[39;49m\u001b[43m__course_price\u001b[49m\n",
      "\u001b[0;31mAttributeError\u001b[0m: 'pwskills4' object has no attribute '_pwskills4__course_price'"
     ]
    }
   ],
   "source": [
    "pw.course_price_access"
   ]
  },
  {
   "cell_type": "code",
   "execution_count": null,
   "id": "2615ab25-99f2-4950-ba8a-e2d943f45694",
   "metadata": {},
   "outputs": [],
   "source": []
  }
 ],
 "metadata": {
  "kernelspec": {
   "display_name": "Python 3 (ipykernel)",
   "language": "python",
   "name": "python3"
  },
  "language_info": {
   "codemirror_mode": {
    "name": "ipython",
    "version": 3
   },
   "file_extension": ".py",
   "mimetype": "text/x-python",
   "name": "python",
   "nbconvert_exporter": "python",
   "pygments_lexer": "ipython3",
   "version": "3.10.8"
  }
 },
 "nbformat": 4,
 "nbformat_minor": 5
}
