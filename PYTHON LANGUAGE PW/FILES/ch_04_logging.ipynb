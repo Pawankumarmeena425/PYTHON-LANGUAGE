{
 "cells": [
  {
   "cell_type": "code",
   "execution_count": 1,
   "id": "b1bd6f59-761a-4512-9061-d2e6d5dfa203",
   "metadata": {},
   "outputs": [
    {
     "name": "stdout",
     "output_type": "stream",
     "text": [
      "this is my print\n"
     ]
    }
   ],
   "source": [
    "print(\"this is my print\")"
   ]
  },
  {
   "cell_type": "code",
   "execution_count": 2,
   "id": "bd65ba74-07d7-4e38-98e3-c857bdad4355",
   "metadata": {},
   "outputs": [],
   "source": [
    "# output only in the consule and after program trimination output will disapper. Then how store it parmanently for future use"
   ]
  },
  {
   "cell_type": "code",
   "execution_count": null,
   "id": "c7921a11-b581-466c-a912-e313e1b799ea",
   "metadata": {},
   "outputs": [],
   "source": [
    "# it is recommanded in the production project use logging insted of print"
   ]
  },
  {
   "cell_type": "code",
   "execution_count": 3,
   "id": "6415d736-5779-409d-80b4-74ad1f954f86",
   "metadata": {},
   "outputs": [],
   "source": [
    "\n",
    "\n",
    "import logging"
   ]
  },
  {
   "cell_type": "code",
   "execution_count": 6,
   "id": "2b06362e-20a8-4630-b225-f9c7ae8800eb",
   "metadata": {},
   "outputs": [],
   "source": [
    "logging.basicConfig(filename = \"test.log\",level = logging.INFO)"
   ]
  },
  {
   "cell_type": "code",
   "execution_count": 7,
   "id": "321a7407-a551-4409-b229-1468fb4dab02",
   "metadata": {},
   "outputs": [],
   "source": [
    "logging.info(\"log this line of execution\")"
   ]
  },
  {
   "cell_type": "code",
   "execution_count": 11,
   "id": "aacd76c4-ce13-4fe9-a38d-219847e18547",
   "metadata": {},
   "outputs": [],
   "source": [
    "logging.info(\"this is my print\")"
   ]
  },
  {
   "cell_type": "code",
   "execution_count": null,
   "id": "0d764e58-279f-4e44-a62f-9183caf86c63",
   "metadata": {},
   "outputs": [],
   "source": []
  },
  {
   "cell_type": "code",
   "execution_count": null,
   "id": "756e4773-62f7-4bb9-a0d8-0d5e5f168256",
   "metadata": {},
   "outputs": [],
   "source": []
  },
  {
   "cell_type": "code",
   "execution_count": 14,
   "id": "a9149676-fe94-476c-8c13-02681e687c0c",
   "metadata": {},
   "outputs": [],
   "source": [
    "logging.debug(\"this is my msg\")\n",
    "# this is not logging in file , because logging level set to INFO and we try to logging debug"
   ]
  },
  {
   "cell_type": "code",
   "execution_count": 15,
   "id": "e41da416-ae15-4fdf-8c13-03ad1a1eedad",
   "metadata": {},
   "outputs": [
    {
     "ename": "SyntaxError",
     "evalue": "invalid syntax (4001354171.py, line 2)",
     "output_type": "error",
     "traceback": [
      "\u001b[0;36m  Cell \u001b[0;32mIn[15], line 2\u001b[0;36m\u001b[0m\n\u001b[0;31m    1.  NOTSET\u001b[0m\n\u001b[0m        ^\u001b[0m\n\u001b[0;31mSyntaxError\u001b[0m\u001b[0;31m:\u001b[0m invalid syntax\n"
     ]
    }
   ],
   "source": [
    "# there are multiple level in logging:\n",
    "1.  NOTSET\n",
    "2.  DEBUG\n",
    "3.  INFO\n",
    "4.  WARNING\n",
    "5.  ERROR\n",
    "6.  CRITICAL"
   ]
  },
  {
   "cell_type": "code",
   "execution_count": 16,
   "id": "440022c6-4b86-4d1c-8869-c56d7a1f9d78",
   "metadata": {},
   "outputs": [],
   "source": [
    "# but we can call all the level below INFO\n",
    "logging.warning(\"your code is dangarous\")"
   ]
  },
  {
   "cell_type": "code",
   "execution_count": 17,
   "id": "ec2ae16b-7ec1-42a6-9629-be9f7b452601",
   "metadata": {},
   "outputs": [],
   "source": [
    "logging.error(\"this is my error msg\")"
   ]
  },
  {
   "cell_type": "code",
   "execution_count": 18,
   "id": "7cbeb4f9-dd16-405d-9f04-a3d076398326",
   "metadata": {},
   "outputs": [],
   "source": [
    "logging.critical(\"this is my critical msg\")"
   ]
  },
  {
   "cell_type": "code",
   "execution_count": 25,
   "id": "dda7c259-a2f9-45ec-8041-cdb500fdc932",
   "metadata": {},
   "outputs": [],
   "source": [
    "# Insted wirte of print use logging before now\n",
    "logging.shutdown()"
   ]
  },
  {
   "cell_type": "code",
   "execution_count": 1,
   "id": "d0621ba2-0f23-4477-9472-88ae1c09095a",
   "metadata": {},
   "outputs": [],
   "source": [
    "import logging\n",
    "logging.basicConfig(filename = \"test1.log\",level  = logging.DEBUG, format = '%(asctime)s %(message)s')\n",
    "# this is also sotre time, and message"
   ]
  },
  {
   "cell_type": "code",
   "execution_count": 2,
   "id": "e00b7580-05e2-4737-8e5b-42cf9e1a74fa",
   "metadata": {},
   "outputs": [],
   "source": [
    "logging.info(\"this is my info logging\")\n",
    "logging.error(\"this is my error\")\n",
    "logging.critical(\"this is my critical\")"
   ]
  },
  {
   "cell_type": "code",
   "execution_count": 3,
   "id": "c012d6c7-f298-4bba-b257-8ba4878acb5d",
   "metadata": {},
   "outputs": [],
   "source": [
    "logging.shutdown()"
   ]
  },
  {
   "cell_type": "code",
   "execution_count": null,
   "id": "a88d2d39-0a65-4067-84ba-8e1d19707448",
   "metadata": {},
   "outputs": [],
   "source": []
  },
  {
   "cell_type": "code",
   "execution_count": 2,
   "id": "c946daa2-d200-4bad-a19f-c7e48dbfcd9c",
   "metadata": {},
   "outputs": [],
   "source": [
    "import logging\n",
    "logging.basicConfig(filename  = \"test2.log\",level = logging.DEBUG, format = '%(asctime)s %(name)s %(levelname)s %(message)s')"
   ]
  },
  {
   "cell_type": "code",
   "execution_count": 3,
   "id": "6e3a5672-af17-4f0e-a9bb-52685a7b80b1",
   "metadata": {},
   "outputs": [],
   "source": [
    "logging.info(\"this is my info logging\")\n",
    "logging.error(\"this is my error\")\n",
    "logging.critical(\"this is my critical\")"
   ]
  },
  {
   "cell_type": "code",
   "execution_count": null,
   "id": "4ef95ad4-0232-40e3-8bc9-f4540871f604",
   "metadata": {},
   "outputs": [],
   "source": []
  },
  {
   "cell_type": "code",
   "execution_count": 4,
   "id": "1edabdf4-f846-40b6-9f72-b73db9637e65",
   "metadata": {},
   "outputs": [],
   "source": [
    "l = [1,2,3,4,5,67,[1,2,3,4],\"sudh\",\"kumar\"]\n",
    "# write integer and sting in different list"
   ]
  },
  {
   "cell_type": "code",
   "execution_count": 5,
   "id": "bad055b2-8f26-41ec-94d0-4f7e4825c456",
   "metadata": {},
   "outputs": [],
   "source": [
    "l1_int = []\n",
    "l2_str  =[]\n",
    "for i in l:\n",
    "    logging.info(\"we are iterating through our list and our local val is i\")\n",
    "    if type(i)==list:\n",
    "        logging.info(\"i am inside if statement and i am trying to check list type\")\n",
    "        for j in i:\n",
    "            logging.info(\"i am inside another for loop inside list element\")\n",
    "            if type(i)==int:\n",
    "                logging.info(\"i am inside if statement\")\n",
    "                l1_int.append( j)\n",
    "    elif type(i)==int:\n",
    "        l1_int.append(i)\n",
    "    else:\n",
    "        if type(i)==str:\n",
    "            l2_str.append(i)"
   ]
  },
  {
   "cell_type": "code",
   "execution_count": 6,
   "id": "d0b62fa8-5e5e-431e-98e9-9020c3786ff4",
   "metadata": {},
   "outputs": [],
   "source": [
    "# how log list   ; first convet into string\n",
    "\n",
    "l1_int = []\n",
    "l2_str  =[]\n",
    "for i in l:\n",
    "    logging.info(\"we are iterating through our list and our local val is i\"+str(l))\n",
    "    if type(i)==list:\n",
    "        logging.info(\"i am inside if statement and i am trying to check list type\"+str(i))\n",
    "        for j in i:\n",
    "            logging.info(\"i am inside another for loop inside list element\"+str(j))\n",
    "            if type(i)==int:\n",
    "                logging.info(\"i am inside if statement\"+str(i))\n",
    "                l1_int.append( j)\n",
    "    elif type(i)==int:\n",
    "        l1_int.append(i)\n",
    "    else:\n",
    "        if type(i)==str:\n",
    "            l2_str.append(i)"
   ]
  },
  {
   "cell_type": "code",
   "execution_count": 7,
   "id": "338aaca8-ba8e-4a11-8148-2f90d4a39e04",
   "metadata": {},
   "outputs": [],
   "source": [
    "# Another way\n",
    "\n",
    "# how log list   ; first convet into string\n",
    "\n",
    "l1_int = []\n",
    "l2_str  =[]\n",
    "for i in l:\n",
    "    logging.info(\"we are iterating through our list and our local val is {}\".format(l))\n",
    "    if type(i)==list:\n",
    "        logging.info(\"i am inside if statement and i am trying to check list type\"+str(i))\n",
    "        for j in i:\n",
    "            logging.info(\"i am inside another for loop inside list element\"+str(j))\n",
    "            if type(i)==int:\n",
    "                logging.info(\"i am inside if statement\"+str(i))\n",
    "                l1_int.append( j)\n",
    "    elif type(i)==int:\n",
    "        l1_int.append(i)\n",
    "    else:\n",
    "        if type(i)==str:\n",
    "            l2_str.append(i)\n",
    "\n",
    "logging.info(\"my final result for int is {l1} and str is {l2} : \".format(l1 = l1_int,l2 = l2_str))"
   ]
  },
  {
   "cell_type": "code",
   "execution_count": null,
   "id": "bc4978b5-30c3-4444-ab8c-f75e081c4aa7",
   "metadata": {},
   "outputs": [],
   "source": []
  },
  {
   "cell_type": "code",
   "execution_count": null,
   "id": "80b6fd22-3d2d-4f67-b966-6bc081472fe1",
   "metadata": {},
   "outputs": [],
   "source": []
  }
 ],
 "metadata": {
  "kernelspec": {
   "display_name": "Python 3 (ipykernel)",
   "language": "python",
   "name": "python3"
  },
  "language_info": {
   "codemirror_mode": {
    "name": "ipython",
    "version": 3
   },
   "file_extension": ".py",
   "mimetype": "text/x-python",
   "name": "python",
   "nbconvert_exporter": "python",
   "pygments_lexer": "ipython3",
   "version": "3.10.8"
  }
 },
 "nbformat": 4,
 "nbformat_minor": 5
}
