{
 "cells": [
  {
   "cell_type": "code",
   "execution_count": 93,
   "id": "f2b103aa-fba8-41d1-9d10-e3a3f2ac7735",
   "metadata": {},
   "outputs": [],
   "source": [
    "f = open(\"test.txt\",'w')#type shift + tab for better decraption\n"
   ]
  },
  {
   "cell_type": "code",
   "execution_count": 94,
   "id": "b1a36483-91b6-4cad-9c89-bda7747370d4",
   "metadata": {},
   "outputs": [
    {
     "data": {
      "text/plain": [
       "'/home/jovyan/work/01 Files'"
      ]
     },
     "execution_count": 94,
     "metadata": {},
     "output_type": "execute_result"
    }
   ],
   "source": [
    "pwd  #give the path of dictractory\n"
   ]
  },
  {
   "cell_type": "code",
   "execution_count": 95,
   "id": "e03bebf6-3a92-46d7-8687-e2a2a0b400e0",
   "metadata": {},
   "outputs": [
    {
     "name": "stdout",
     "output_type": "stream",
     "text": [
      "ch_01_Files_Basic.ipynb  new.txt  test.txt\n"
     ]
    }
   ],
   "source": [
    "ls  #give list of files in current directary"
   ]
  },
  {
   "cell_type": "code",
   "execution_count": 96,
   "id": "41f6a285-f2bb-43be-ac37-4e81a5829c10",
   "metadata": {},
   "outputs": [
    {
     "name": "stdout",
     "output_type": "stream",
     "text": [
      "[Errno 2] No such file or directory: 'work #use for change diractory'\n",
      "/home/jovyan/work/01 Files\n"
     ]
    }
   ],
   "source": [
    "cd work #use for change diractory"
   ]
  },
  {
   "cell_type": "code",
   "execution_count": 97,
   "id": "2d2b46e0-80a1-4728-ba7f-90b24f5e0185",
   "metadata": {},
   "outputs": [
    {
     "data": {
      "text/plain": [
       "21"
      ]
     },
     "execution_count": 97,
     "metadata": {},
     "output_type": "execute_result"
    }
   ],
   "source": [
    "f.write(\"this is my first file\")"
   ]
  },
  {
   "cell_type": "code",
   "execution_count": 98,
   "id": "2861c522-06af-4f00-9fdd-ed157d0b087c",
   "metadata": {},
   "outputs": [],
   "source": [
    "f.close()"
   ]
  },
  {
   "cell_type": "code",
   "execution_count": 99,
   "id": "322460c5-379b-49b6-b8c4-dfb61604ae64",
   "metadata": {},
   "outputs": [],
   "source": [
    "f  = open(\"test.txt\",'w')\n",
    "# in 'w' mode previouse content is delete"
   ]
  },
  {
   "cell_type": "code",
   "execution_count": 100,
   "id": "47cd0872-a20f-4210-be92-ad6d7ebb9490",
   "metadata": {},
   "outputs": [
    {
     "data": {
      "text/plain": [
       "24"
      ]
     },
     "execution_count": 100,
     "metadata": {},
     "output_type": "execute_result"
    }
   ],
   "source": [
    "f.write(\"this is 2nd part of file\")"
   ]
  },
  {
   "cell_type": "code",
   "execution_count": 101,
   "id": "810eebd3-ae50-42c3-b79e-55bb93371bdb",
   "metadata": {},
   "outputs": [],
   "source": [
    "f.close()"
   ]
  },
  {
   "cell_type": "code",
   "execution_count": null,
   "id": "067ea541-5f75-4a9b-8568-ceb19ee14387",
   "metadata": {},
   "outputs": [],
   "source": []
  },
  {
   "cell_type": "code",
   "execution_count": 102,
   "id": "1a361961-2fbd-4dba-a12d-d07dfd271846",
   "metadata": {},
   "outputs": [],
   "source": [
    "f = open(\"test.txt\",'a')"
   ]
  },
  {
   "cell_type": "code",
   "execution_count": 103,
   "id": "48bdca9d-f901-4605-8741-9b3c60b3e87e",
   "metadata": {},
   "outputs": [
    {
     "data": {
      "text/plain": [
       "125"
      ]
     },
     "execution_count": 103,
     "metadata": {},
     "output_type": "execute_result"
    }
   ],
   "source": [
    "f.write(\"y using the article the, we’ve shown that it was one specific day that was long and one specific cup of tea that tasted good.\")"
   ]
  },
  {
   "cell_type": "code",
   "execution_count": 104,
   "id": "24838657-0580-424b-a820-c61b034d7d13",
   "metadata": {},
   "outputs": [],
   "source": [
    "f.close()"
   ]
  },
  {
   "cell_type": "code",
   "execution_count": 105,
   "id": "320c0847-c943-49e4-b8ec-62806797b50e",
   "metadata": {},
   "outputs": [],
   "source": [
    "data = open(\"test.txt\",'r')"
   ]
  },
  {
   "cell_type": "code",
   "execution_count": 106,
   "id": "16147514-23da-4fee-b061-2ed80a7b63c9",
   "metadata": {},
   "outputs": [
    {
     "data": {
      "text/plain": [
       "'this is 2nd part of filey using the article the, we’ve shown that it was one specific day that was long and one specific cup of tea that tasted good.'"
      ]
     },
     "execution_count": 106,
     "metadata": {},
     "output_type": "execute_result"
    }
   ],
   "source": [
    "data.read()\n",
    "# complete data read"
   ]
  },
  {
   "cell_type": "code",
   "execution_count": 107,
   "id": "e7dc12c1-eed3-470e-bfcd-e2d5cb347e92",
   "metadata": {},
   "outputs": [
    {
     "data": {
      "text/plain": [
       "''"
      ]
     },
     "execution_count": 107,
     "metadata": {},
     "output_type": "execute_result"
    }
   ],
   "source": [
    "data.readline()\n",
    "# read content line by line, but it give blank if we don't set cureser value, because after completer read data it read blank content"
   ]
  },
  {
   "cell_type": "code",
   "execution_count": 108,
   "id": "b5ebedc2-a7d8-4de0-bf77-39ba47c49861",
   "metadata": {},
   "outputs": [
    {
     "data": {
      "text/plain": [
       "0"
      ]
     },
     "execution_count": 108,
     "metadata": {},
     "output_type": "execute_result"
    }
   ],
   "source": [
    "data.seek(0)\n",
    "# start read data from 0th index"
   ]
  },
  {
   "cell_type": "code",
   "execution_count": 109,
   "id": "2854e3b6-58db-49b8-9ef3-d424d78c6e1f",
   "metadata": {},
   "outputs": [
    {
     "data": {
      "text/plain": [
       "'this is 2nd part of filey using the article the, we’ve shown that it was one specific day that was long and one specific cup of tea that tasted good.'"
      ]
     },
     "execution_count": 109,
     "metadata": {},
     "output_type": "execute_result"
    }
   ],
   "source": [
    "data.readline()"
   ]
  },
  {
   "cell_type": "code",
   "execution_count": 110,
   "id": "30c521e5-7153-42bd-a0df-661c3d2f3efa",
   "metadata": {},
   "outputs": [
    {
     "data": {
      "text/plain": [
       "10"
      ]
     },
     "execution_count": 110,
     "metadata": {},
     "output_type": "execute_result"
    }
   ],
   "source": [
    "data.seek(10)"
   ]
  },
  {
   "cell_type": "code",
   "execution_count": 111,
   "id": "4fd901e5-b08b-4991-b8a9-f3ab42f397de",
   "metadata": {},
   "outputs": [
    {
     "data": {
      "text/plain": [
       "'d part of filey using the article the, we’ve shown that it was one specific day that was long and one specific cup of tea that tasted good.'"
      ]
     },
     "execution_count": 111,
     "metadata": {},
     "output_type": "execute_result"
    }
   ],
   "source": [
    "data.readline()"
   ]
  },
  {
   "cell_type": "code",
   "execution_count": 112,
   "id": "e2181c3f-5f51-432f-ab68-37921e238a1e",
   "metadata": {},
   "outputs": [],
   "source": [
    "data1 = open(\"test.txt\",'r')"
   ]
  },
  {
   "cell_type": "code",
   "execution_count": 113,
   "id": "4bb018f0-9f06-4f92-9907-29b0146bb581",
   "metadata": {},
   "outputs": [
    {
     "name": "stdout",
     "output_type": "stream",
     "text": [
      "this is 2nd part of filey using the article the, we’ve shown that it was one specific day that was long and one specific cup of tea that tasted good.\n"
     ]
    }
   ],
   "source": [
    "for i in data1:\n",
    "    print(i)\n",
    "#     it read data line by line"
   ]
  },
  {
   "cell_type": "code",
   "execution_count": null,
   "id": "5a44c51c-f807-4269-a6f1-e29621d2ae6b",
   "metadata": {},
   "outputs": [],
   "source": []
  },
  {
   "cell_type": "code",
   "execution_count": 114,
   "id": "4530b596-e562-4792-9ed0-baf77b5cd71c",
   "metadata": {},
   "outputs": [],
   "source": [
    "# how calculate size of file"
   ]
  },
  {
   "cell_type": "code",
   "execution_count": 115,
   "id": "bb08c5a1-a799-4c23-88a3-ed3391545021",
   "metadata": {},
   "outputs": [],
   "source": [
    "import os"
   ]
  },
  {
   "cell_type": "code",
   "execution_count": 116,
   "id": "c61005f3-3c78-4b30-88b0-07541e8c2d7a",
   "metadata": {},
   "outputs": [
    {
     "data": {
      "text/plain": [
       "151"
      ]
     },
     "execution_count": 116,
     "metadata": {},
     "output_type": "execute_result"
    }
   ],
   "source": [
    "os.path.getsize(\"test.txt\")\n",
    "# it will give size in Byte"
   ]
  },
  {
   "cell_type": "code",
   "execution_count": 117,
   "id": "239b206b-ee54-4b75-88e4-7d837ac0e39d",
   "metadata": {},
   "outputs": [],
   "source": [
    "os.remove(\"test.txt\")"
   ]
  },
  {
   "cell_type": "code",
   "execution_count": 118,
   "id": "c9e92fe9-eb0b-44b8-af2c-13d83d53a66a",
   "metadata": {},
   "outputs": [],
   "source": [
    "f = open(\"test1.txt\",'w')"
   ]
  },
  {
   "cell_type": "code",
   "execution_count": 119,
   "id": "1b3c0e53-5c75-419e-a31c-6e82d27cde5c",
   "metadata": {},
   "outputs": [
    {
     "data": {
      "text/plain": [
       "149"
      ]
     },
     "execution_count": 119,
     "metadata": {},
     "output_type": "execute_result"
    }
   ],
   "source": [
    "f.write(\"this is 2nd part of filey using the article the, we’ve shown that it was one specific day that was long and one specific cup of tea that tasted good.\")"
   ]
  },
  {
   "cell_type": "code",
   "execution_count": 120,
   "id": "8725186a-89ec-4105-8892-705050ed1fd9",
   "metadata": {},
   "outputs": [],
   "source": [
    "f.close()"
   ]
  },
  {
   "cell_type": "code",
   "execution_count": 121,
   "id": "9be8c14a-e3a2-4cb2-8a52-4e398a18a43c",
   "metadata": {},
   "outputs": [],
   "source": [
    "f = open(\"test1.txt\",'r')"
   ]
  },
  {
   "cell_type": "code",
   "execution_count": 122,
   "id": "dfcb27a0-56f7-484b-994e-9017ed8677f4",
   "metadata": {},
   "outputs": [
    {
     "data": {
      "text/plain": [
       "'this is 2nd part of filey using the article the, we’ve shown that it was one specific day that was long and one specific cup of tea that tasted good.'"
      ]
     },
     "execution_count": 122,
     "metadata": {},
     "output_type": "execute_result"
    }
   ],
   "source": [
    "f.read()"
   ]
  },
  {
   "cell_type": "code",
   "execution_count": 123,
   "id": "073575c8-ff32-4f08-9bff-1bd5c1874da1",
   "metadata": {},
   "outputs": [],
   "source": [
    "os.rename(\"test1.txt\",\"new.txt\")\n",
    "# rename file name"
   ]
  },
  {
   "cell_type": "code",
   "execution_count": 134,
   "id": "4fb9b580-7229-4ead-9ee5-c6faa2d17e5c",
   "metadata": {},
   "outputs": [
    {
     "ename": "NameError",
     "evalue": "name 'shutil' is not defined",
     "output_type": "error",
     "traceback": [
      "\u001b[0;31m---------------------------------------------------------------------------\u001b[0m",
      "\u001b[0;31mNameError\u001b[0m                                 Traceback (most recent call last)",
      "Cell \u001b[0;32mIn[134], line 2\u001b[0m\n\u001b[1;32m      1\u001b[0m \u001b[38;5;28;01mimport\u001b[39;00m \u001b[38;5;21;01mos\u001b[39;00m\n\u001b[0;32m----> 2\u001b[0m \u001b[43mshutil\u001b[49m\u001b[38;5;241m.\u001b[39mcopy(\u001b[38;5;124m\"\u001b[39m\u001b[38;5;124mnew.txt\u001b[39m\u001b[38;5;124m\"\u001b[39m,\u001b[38;5;124m\"\u001b[39m\u001b[38;5;124mcopy_new.txt\u001b[39m\u001b[38;5;124m\"\u001b[39m)\n\u001b[1;32m      3\u001b[0m \u001b[38;5;66;03m# it generate copy of files and copy all content in new file\u001b[39;00m\n",
      "\u001b[0;31mNameError\u001b[0m: name 'shutil' is not defined"
     ]
    }
   ],
   "source": [
    "import os\n",
    "shutil.copy(\"new.txt\",\"copy_new.txt\")\n",
    "# it generate copy of files and copy all content in new file"
   ]
  },
  {
   "cell_type": "code",
   "execution_count": 135,
   "id": "70b64bc2-ecc6-4c6c-b542-4e71ff84fd89",
   "metadata": {},
   "outputs": [
    {
     "name": "stdout",
     "output_type": "stream",
     "text": [
      "this is 2nd part of filey using the article the, we’ve shown that it was one specific day that was long and one specific cup of tea that tasted good.\n"
     ]
    }
   ],
   "source": [
    "with open(\"new.txt\",\"r\") as f:\n",
    "    print(f.read())"
   ]
  },
  {
   "cell_type": "code",
   "execution_count": null,
   "id": "d567507f-1f05-4e60-badf-70940987d1d8",
   "metadata": {},
   "outputs": [],
   "source": []
  }
 ],
 "metadata": {
  "kernelspec": {
   "display_name": "Python 3 (ipykernel)",
   "language": "python",
   "name": "python3"
  },
  "language_info": {
   "codemirror_mode": {
    "name": "ipython",
    "version": 3
   },
   "file_extension": ".py",
   "mimetype": "text/x-python",
   "name": "python",
   "nbconvert_exporter": "python",
   "pygments_lexer": "ipython3",
   "version": "3.10.8"
  }
 },
 "nbformat": 4,
 "nbformat_minor": 5
}
