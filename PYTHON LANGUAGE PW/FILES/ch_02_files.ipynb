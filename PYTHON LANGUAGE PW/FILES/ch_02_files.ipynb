{
 "cells": [
  {
   "cell_type": "code",
   "execution_count": 2,
   "id": "04c009c1-c0a2-49a6-865e-c4e2644159ad",
   "metadata": {},
   "outputs": [],
   "source": [
    "data = {\n",
    "\"name\":\"sudh\",\n",
    "\"mail_id\":\"sudh@gmail.com\",\n",
    "\"phone number\":6565665665,\n",
    "    \"subject\":[\"data science\",\"big data\",\"data analytics\"]\n",
    "}\n",
    "# this data type  formet is also called 'json' data formet -->> java script object notation"
   ]
  },
  {
   "cell_type": "code",
   "execution_count": 3,
   "id": "4f383d09-7814-432a-8834-24139e063eba",
   "metadata": {},
   "outputs": [],
   "source": [
    "# how write json formet data in files"
   ]
  },
  {
   "cell_type": "code",
   "execution_count": 4,
   "id": "322473af-ed0f-4beb-886d-348d829c6967",
   "metadata": {},
   "outputs": [],
   "source": [
    "import json\n"
   ]
  },
  {
   "cell_type": "code",
   "execution_count": 5,
   "id": "9fd78036-027b-44a6-837b-b254331af35d",
   "metadata": {},
   "outputs": [],
   "source": [
    "with open(\"data.json\",'w') as f:\n",
    "    json.dump(data,f)"
   ]
  },
  {
   "cell_type": "code",
   "execution_count": 6,
   "id": "27a2ca1e-c9ae-4642-9fd4-0adf3b5e02a9",
   "metadata": {},
   "outputs": [],
   "source": [
    "with open(\"data.json\",\"r\") as f:\n",
    "    data1 =  json.load(f)"
   ]
  },
  {
   "cell_type": "code",
   "execution_count": 7,
   "id": "96876e61-d8a0-45c0-95f5-61428c3d5aa2",
   "metadata": {},
   "outputs": [
    {
     "data": {
      "text/plain": [
       "{'name': 'sudh',\n",
       " 'mail_id': 'sudh@gmail.com',\n",
       " 'phone number': 6565665665,\n",
       " 'subject': ['data science', 'big data', 'data analytics']}"
      ]
     },
     "execution_count": 7,
     "metadata": {},
     "output_type": "execute_result"
    }
   ],
   "source": [
    "data1\n"
   ]
  },
  {
   "cell_type": "code",
   "execution_count": 9,
   "id": "b828641f-ddf5-4e2c-8f18-e0f2eb87508c",
   "metadata": {},
   "outputs": [
    {
     "data": {
      "text/plain": [
       "['data science', 'big data', 'data analytics']"
      ]
     },
     "execution_count": 9,
     "metadata": {},
     "output_type": "execute_result"
    }
   ],
   "source": [
    "data1['subject']"
   ]
  },
  {
   "cell_type": "code",
   "execution_count": 10,
   "id": "7dc3a27c-5643-4ef4-81ef-9ed11dde1fd1",
   "metadata": {},
   "outputs": [
    {
     "data": {
      "text/plain": [
       "'big data'"
      ]
     },
     "execution_count": 10,
     "metadata": {},
     "output_type": "execute_result"
    }
   ],
   "source": [
    "data1['subject'][1]"
   ]
  },
  {
   "cell_type": "code",
   "execution_count": null,
   "id": "5c2ca8c4-2f5f-4ee1-8832-9ebe6c2fd628",
   "metadata": {},
   "outputs": [],
   "source": []
  },
  {
   "cell_type": "code",
   "execution_count": 11,
   "id": "c09e4dc5-28e7-4493-ba60-5a27de58f6c7",
   "metadata": {},
   "outputs": [],
   "source": [
    "# how read and write common seprated values files (csv)"
   ]
  },
  {
   "cell_type": "code",
   "execution_count": 1,
   "id": "e0e19c06-3f68-4ed1-8419-7e15fe3ca86d",
   "metadata": {},
   "outputs": [],
   "source": [
    "import csv"
   ]
  },
  {
   "cell_type": "code",
   "execution_count": 2,
   "id": "ebebd29a-448c-4080-bdcd-8ae3430412ba",
   "metadata": {},
   "outputs": [],
   "source": [
    "data = [[\"name\",\"email_id\",\"phone_number\"],[\"pawan\",\"pawan@gmail.com\",321231],[\"sudh\",\"sudh@gmail.com\",31211]]"
   ]
  },
  {
   "cell_type": "code",
   "execution_count": 3,
   "id": "ecb7c85c-4986-44ed-9299-61124ec516c1",
   "metadata": {},
   "outputs": [],
   "source": [
    "with open(\"data.csv\",'w') as f:\n",
    "    writer =  csv.writer(f)\n",
    "    for i in data:\n",
    "        writer.writerow(i)"
   ]
  },
  {
   "cell_type": "code",
   "execution_count": 5,
   "id": "c3b46036-7312-418e-9df5-e6c44e659446",
   "metadata": {},
   "outputs": [
    {
     "name": "stdout",
     "output_type": "stream",
     "text": [
      "['name', 'email_id', 'phone_number']\n",
      "['pawan', 'pawan@gmail.com', '321231']\n",
      "['sudh', 'sudh@gmail.com', '31211']\n"
     ]
    }
   ],
   "source": [
    "with open(\"data.csv\",\"r\") as f:\n",
    "    read_data = csv.reader(f)\n",
    "    for i in read_data:\n",
    "        print(i)"
   ]
  },
  {
   "cell_type": "raw",
   "id": "1853768a-d172-4885-9756-8707221921ae",
   "metadata": {},
   "source": []
  },
  {
   "cell_type": "code",
   "execution_count": 7,
   "id": "c12ad001-f053-40fc-9890-571694ff0e50",
   "metadata": {},
   "outputs": [],
   "source": [
    "# how read and wirite binary data\n",
    "# what is binary form data : when an image or video open in text file formet in any text editor , then it will show in binary form"
   ]
  },
  {
   "cell_type": "code",
   "execution_count": 11,
   "id": "b7eca508-2cb6-4ecf-bb88-aaff24d1f8f9",
   "metadata": {},
   "outputs": [],
   "source": [
    "with open(\"test.bin\",\"wb\") as f:\n",
    "    f.write(b\"\\x01\\x02\\x0331212312313123\")"
   ]
  },
  {
   "cell_type": "code",
   "execution_count": 12,
   "id": "15a44671-61b9-438f-b369-848af1851f71",
   "metadata": {},
   "outputs": [
    {
     "name": "stdout",
     "output_type": "stream",
     "text": [
      "b'\\x01\\x02\\x0331212312313123'\n"
     ]
    }
   ],
   "source": [
    "with open(\"test.bin\",\"rb\") as f:\n",
    "    print(f.read())"
   ]
  },
  {
   "cell_type": "code",
   "execution_count": null,
   "id": "0c302227-f8e8-4069-a02d-4c574dd1f360",
   "metadata": {},
   "outputs": [],
   "source": []
  }
 ],
 "metadata": {
  "kernelspec": {
   "display_name": "Python 3 (ipykernel)",
   "language": "python",
   "name": "python3"
  },
  "language_info": {
   "codemirror_mode": {
    "name": "ipython",
    "version": 3
   },
   "file_extension": ".py",
   "mimetype": "text/x-python",
   "name": "python",
   "nbconvert_exporter": "python",
   "pygments_lexer": "ipython3",
   "version": "3.10.8"
  }
 },
 "nbformat": 4,
 "nbformat_minor": 5
}
