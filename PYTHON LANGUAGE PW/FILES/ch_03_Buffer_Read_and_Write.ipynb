{
 "cells": [
  {
   "cell_type": "code",
   "execution_count": 1,
   "id": "bf7fea18-e6ac-404f-9ee1-4377b9cfb2d8",
   "metadata": {},
   "outputs": [],
   "source": [
    "# Buffer read and write , means it write big data in the chunks"
   ]
  },
  {
   "cell_type": "code",
   "execution_count": 2,
   "id": "d849f427-834c-4884-98f9-301ef6230fd0",
   "metadata": {},
   "outputs": [],
   "source": [
    "import io"
   ]
  },
  {
   "cell_type": "code",
   "execution_count": 10,
   "id": "90a59a57-ae86-4427-a597-8643dfcb76fe",
   "metadata": {},
   "outputs": [],
   "source": [
    "with open(\"test1.txt\",\"wb\") as f:\n",
    "    file = io.BufferedWriter(f)\n",
    "    \n",
    "    file.write(b\"this is my first line\\n\")\n",
    "    file.write(b\"this is my 2nd line\\n\")\n",
    "    file.write(b\"Rainwater harvesting (RWH) is the collection and storage of rain, rather than allowing it to run off. Rainwater is collected from a roof-like surface and redirected to a tank, cistern, deep pit (well, shaft, or borehole), aquifer, or a reservoir with percolation, so that it seeps down and restores the ground water.\\n\")\n",
    "    file.flush()#for close file"
   ]
  },
  {
   "cell_type": "code",
   "execution_count": 12,
   "id": "d0c104a0-304e-4164-8199-d3d2fda45846",
   "metadata": {},
   "outputs": [
    {
     "name": "stdout",
     "output_type": "stream",
     "text": [
      "b'this is my first line\\nthis is my 2nd line\\nRainwater harvesting (RWH) is the collection and storage of rain, rather than allowing it to run off. Rainwater is collected from a roof-like surface and redirected to a tank, cistern, deep pit (well, shaft, or borehole), aquifer, or a reservoir with percolation, so that it seeps down and restores the ground water.\\n'\n"
     ]
    }
   ],
   "source": [
    "with open(\"test1.txt\",\"rb\") as f:\n",
    "    file  = io.BufferedReader(f)\n",
    "    print(file.read(10000))\n",
    "    \n",
    "# this will read 10000 byte data only, it given by us manually"
   ]
  },
  {
   "cell_type": "code",
   "execution_count": null,
   "id": "ddfdf7b8-e54d-48bf-b0c4-b52c461a1a4b",
   "metadata": {},
   "outputs": [],
   "source": []
  },
  {
   "cell_type": "code",
   "execution_count": null,
   "id": "bd60133f-7da4-4976-b30a-0c6155e73430",
   "metadata": {},
   "outputs": [],
   "source": []
  }
 ],
 "metadata": {
  "kernelspec": {
   "display_name": "Python 3 (ipykernel)",
   "language": "python",
   "name": "python3"
  },
  "language_info": {
   "codemirror_mode": {
    "name": "ipython",
    "version": 3
   },
   "file_extension": ".py",
   "mimetype": "text/x-python",
   "name": "python",
   "nbconvert_exporter": "python",
   "pygments_lexer": "ipython3",
   "version": "3.10.8"
  }
 },
 "nbformat": 4,
 "nbformat_minor": 5
}
